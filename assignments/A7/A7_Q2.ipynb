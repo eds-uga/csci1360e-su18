{
 "cells": [
  {
   "cell_type": "markdown",
   "metadata": {
    "nbgrader": {
     "grade": false,
     "grade_id": "q2_prompt",
     "locked": true,
     "schema_version": 1,
     "solution": false
    }
   },
   "source": [
    "# Question 2\n",
    "\n",
    "In this question, you'll work on a very common application of Bayes' Theorem.\n",
    "\n",
    "### Marie is getting married tomorrow at an outdoor ceremony in the desert. In recent years, it has rained only 3 days each year. Unfortunately, the weatherperson has predicted rain for tomorrow. When it actually rains, the weatherperson correctly forecasts rain 95% of the time. When it doesn't rain, they incorrectly forecast rain 5% of the time. What is the probability that it will rain on the day of Marie's wedding?\n",
    "\n",
    "To answer this question, you'll need to use Bayes' Theorem. Recall:\n",
    "\n",
    "$$\n",
    "P(A | B) = \\frac{P(B | A) * P(A)}{P(B)}\n",
    "$$\n",
    "\n",
    "We'll call event A \"it rains\", and event B \"the weatherperson forecasts rain.\"\n",
    "\n",
    "In addition to the final answer, please include your thought process. And please don't consult Google."
   ]
  },
  {
   "cell_type": "markdown",
   "metadata": {
    "nbgrader": {
     "grade": false,
     "grade_id": "q2a_prompt",
     "locked": true,
     "schema_version": 1,
     "solution": false
    }
   },
   "source": [
    "### Part A\n",
    "\n",
    "First, write out the prior probability of rain, or $P(A)$.\n",
    "\n",
    "*Hint*: This can be discerned directly from the question."
   ]
  },
  {
   "cell_type": "markdown",
   "metadata": {
    "nbgrader": {
     "grade": true,
     "grade_id": "q2a",
     "locked": false,
     "points": 5,
     "schema_version": 1,
     "solution": true
    }
   },
   "source": []
  },
  {
   "cell_type": "markdown",
   "metadata": {
    "nbgrader": {
     "grade": false,
     "grade_id": "q2b_prompt",
     "locked": true,
     "schema_version": 1,
     "solution": false
    }
   },
   "source": [
    "### Part B\n",
    "\n",
    "Next, solve for the *likelihood* term, or $P(B|A)$. This term literally means \"the probability that the weatherperson forecasted rain, *given* that it is raining\".\n",
    "\n",
    "To solve this question, look for the information related to the weather and the accuracy with which the weatherperson predicts that weather. "
   ]
  },
  {
   "cell_type": "markdown",
   "metadata": {
    "nbgrader": {
     "grade": true,
     "grade_id": "q2b",
     "locked": false,
     "points": 5,
     "schema_version": 1,
     "solution": true
    }
   },
   "source": []
  },
  {
   "cell_type": "markdown",
   "metadata": {
    "nbgrader": {
     "grade": false,
     "grade_id": "q2c_prompt",
     "locked": true,
     "schema_version": 1,
     "solution": false
    }
   },
   "source": [
    "### Part C\n",
    "\n",
    "Now that you've come up with a figure for the whole numerator, you can already say something about relative probabilities; $P(A|B)$ is *proportional* to $P(B|A) * P(A)$. However, to get an *absolute* probability, we need to solve for the denominator term $P(B)$, which is effectively a \"normalizing\" term so the probability actually falls between 0 and 1.\n",
    "\n",
    "In a lot of modern data science applications, solving for this term directly is intractable. Fortunately, there is a trick that can sometimes work: **you can rewrite $P(B)$ using the chain rule of probability.** This looks like:\n",
    "\n",
    "$$\n",
    "P(B) = P(B | A ) * P(A) + P(B | !A) * P(!A)\n",
    "$$\n",
    "\n",
    "where \"!\" means \"negation\", or opposite. Since the event $A$ (it rains) is a binary event, $!A$ simply means \"doesn't rain\".\n",
    "\n",
    "Solve for $P(B)$."
   ]
  },
  {
   "cell_type": "markdown",
   "metadata": {
    "nbgrader": {
     "grade": true,
     "grade_id": "q2c",
     "locked": false,
     "points": 10,
     "schema_version": 1,
     "solution": true
    }
   },
   "source": []
  },
  {
   "cell_type": "markdown",
   "metadata": {
    "nbgrader": {
     "grade": false,
     "grade_id": "q2d_prompt",
     "locked": true,
     "schema_version": 1,
     "solution": false
    }
   },
   "source": [
    "### Part D\n",
    "\n",
    "You've solved for all three terms on the right-hand side of Bayes' Theorem! All that's left, now:\n",
    "\n",
    "What is $P(A | B)$, or the probability of rain given that the weatherman has predicted rain?"
   ]
  },
  {
   "cell_type": "markdown",
   "metadata": {
    "collapsed": true,
    "nbgrader": {
     "grade": true,
     "grade_id": "q2d",
     "locked": false,
     "points": 10,
     "schema_version": 1,
     "solution": true
    }
   },
   "source": []
  }
 ],
 "metadata": {
  "celltoolbar": "Create Assignment",
  "kernelspec": {
   "display_name": "Python 3",
   "language": "python",
   "name": "python3"
  },
  "language_info": {
   "codemirror_mode": {
    "name": "ipython",
    "version": 3
   },
   "file_extension": ".py",
   "mimetype": "text/x-python",
   "name": "python",
   "nbconvert_exporter": "python",
   "pygments_lexer": "ipython3",
   "version": "3.6.5"
  }
 },
 "nbformat": 4,
 "nbformat_minor": 1
}
