{
 "cells": [
  {
   "cell_type": "markdown",
   "metadata": {
    "nbgrader": {
     "grade": false,
     "grade_id": "q1_prompt",
     "locked": true,
     "schema_version": 1,
     "solution": false
    }
   },
   "source": [
    "# Question 1\n",
    "\n",
    "In this question, you'll write some basic functions."
   ]
  },
  {
   "cell_type": "markdown",
   "metadata": {
    "nbgrader": {
     "grade": false,
     "grade_id": "q1a_prompt",
     "locked": true,
     "schema_version": 1,
     "solution": false
    }
   },
   "source": [
    "### Part A\n",
    "\n",
    "Write a function that adds an amount to each element of a list equal to the index of that element in the list, plus an optional offset.\n",
    "\n",
    "Your function should:\n",
    "\n",
    " - be named `add_index`\n",
    " - take 2 arguments: a list of numbers, and an *optional* (default: 0) offset that is added to each element\n",
    " - return 1 value: a list of numbers with their values properly incremented\n",
    " \n",
    "For example, `add_index([1, 2, 3])` should return `[1, 3, 5]`. Since the 1 is at index 0, nothing is added; however, the 2 is at index 1, so 1 is added to make 3. Finally, the 3 is at index 2, so 2 is added to make 5.\n",
    "\n",
    "Another example: `add_index([1, 2, 3], 5)` should return `[6, 8, 10]`. Again, the 1 is at index 0, so 0 is added, resulting in 1. However, the additional offset of 5 results in 6. Same again for the 2: 1 is added for the index (making 3), plus the offset of 5 for a final value of 8. Finally for the 3, 2 is added for the index (making 5), plus the offset of 5 making 10.\n",
    "\n",
    "You cannot use any built-in or imported functions."
   ]
  },
  {
   "cell_type": "code",
   "execution_count": null,
   "metadata": {
    "collapsed": true,
    "nbgrader": {
     "grade": false,
     "grade_id": "q1a",
     "locked": false,
     "schema_version": 1,
     "solution": true
    }
   },
   "outputs": [],
   "source": []
  },
  {
   "cell_type": "code",
   "execution_count": null,
   "metadata": {
    "collapsed": true,
    "nbgrader": {
     "grade": true,
     "grade_id": "q1a_test1",
     "locked": true,
     "points": 5,
     "schema_version": 1,
     "solution": false
    }
   },
   "outputs": [],
   "source": [
    "i1 = [1, 2, 3]\n",
    "a1 = [1, 3, 5]\n",
    "assert set(a1) == set(add_index(i1))"
   ]
  },
  {
   "cell_type": "code",
   "execution_count": null,
   "metadata": {
    "collapsed": true,
    "nbgrader": {
     "grade": true,
     "grade_id": "q1a_test2",
     "locked": true,
     "points": 5,
     "schema_version": 1,
     "solution": false
    }
   },
   "outputs": [],
   "source": [
    "i2 = [0, 0, 0, 9, 10, 11]\n",
    "o2 = 12\n",
    "a2 = [12, 13, 14, 24, 26, 28]\n",
    "assert set(a2) == set(add_index(i2, o2))"
   ]
  },
  {
   "cell_type": "markdown",
   "metadata": {
    "nbgrader": {
     "grade": false,
     "grade_id": "q1b_prompt",
     "locked": true,
     "schema_version": 1,
     "solution": false
    }
   },
   "source": [
    "### Part B\n",
    "\n",
    "Write a function which deletes all the odd numbers from a list of numbers.\n",
    "\n",
    "Your function should:\n",
    "\n",
    " - be named `remove_odds`\n",
    " - take 1 argument, a list of numbers\n",
    " - return 1 value: the original list of numbers, but with all the odd elements stripped out\n",
    " \n",
    "For example, `remove_odds([1, 2, 3, 4, 5])` should return `[2, 4]`. 0 counts as even.\n",
    "\n",
    "You cannot use any built-in or imported functions."
   ]
  },
  {
   "cell_type": "code",
   "execution_count": null,
   "metadata": {
    "collapsed": true,
    "nbgrader": {
     "grade": false,
     "grade_id": "q1b",
     "locked": false,
     "schema_version": 1,
     "solution": true
    }
   },
   "outputs": [],
   "source": []
  },
  {
   "cell_type": "code",
   "execution_count": null,
   "metadata": {
    "collapsed": true,
    "nbgrader": {
     "grade": true,
     "grade_id": "q1b_test1",
     "locked": true,
     "points": 5,
     "schema_version": 1,
     "solution": false
    }
   },
   "outputs": [],
   "source": [
    "i1 = [1, 2, 3]\n",
    "a1 = [2]\n",
    "assert set(a1) == set(remove_odds(i1))"
   ]
  },
  {
   "cell_type": "code",
   "execution_count": null,
   "metadata": {
    "collapsed": true,
    "nbgrader": {
     "grade": true,
     "grade_id": "q1b_test2",
     "locked": true,
     "points": 5,
     "schema_version": 1,
     "solution": false
    }
   },
   "outputs": [],
   "source": [
    "i2 = [0, 0, 0, 9, 10, 11]\n",
    "a2 = [0, 0, 0, 10]\n",
    "assert set(a2) == set(remove_odds(i2))"
   ]
  },
  {
   "cell_type": "markdown",
   "metadata": {
    "nbgrader": {
     "grade": false,
     "grade_id": "q1c_prompt",
     "locked": true,
     "schema_version": 1,
     "solution": false
    }
   },
   "source": [
    "### Part C\n",
    "\n",
    "Write a function which determines whether or not a list is a palindrome. Recall a palindrome is typically a word or sequence of words that reads identically forwards as backwards.\n",
    "\n",
    "Your function should:\n",
    "\n",
    " - be named `is_palindrome`\n",
    " - take 1 argument, a list\n",
    " - return 1 value, a boolean: `True` if the input list is a palindrome, `False` otherwise\n",
    "\n",
    "For example, `is_palindrome([1, 2, 1])` would return `True`, but `is_palindrome([1, 1, 2, 1])` would return `False`.\n",
    "\n",
    "You cannot use any built-in or imported functions, and you cannot use the `[::-1]` indexing method to reverse a list."
   ]
  },
  {
   "cell_type": "code",
   "execution_count": null,
   "metadata": {
    "collapsed": true,
    "nbgrader": {
     "grade": false,
     "grade_id": "q1c",
     "locked": false,
     "schema_version": 1,
     "solution": true
    }
   },
   "outputs": [],
   "source": []
  },
  {
   "cell_type": "code",
   "execution_count": null,
   "metadata": {
    "collapsed": true,
    "nbgrader": {
     "grade": true,
     "grade_id": "q1c_test1",
     "locked": true,
     "points": 2,
     "schema_version": 1,
     "solution": false
    }
   },
   "outputs": [],
   "source": [
    "i1 = [1, 2, 1]\n",
    "assert is_palindrome(i1)"
   ]
  },
  {
   "cell_type": "code",
   "execution_count": null,
   "metadata": {
    "collapsed": true,
    "nbgrader": {
     "grade": true,
     "grade_id": "q1c_test2",
     "locked": true,
     "points": 2,
     "schema_version": 1,
     "solution": false
    }
   },
   "outputs": [],
   "source": [
    "i2 = [1, 1, 2, 1]\n",
    "assert not is_palindrome(i2)"
   ]
  },
  {
   "cell_type": "code",
   "execution_count": null,
   "metadata": {
    "collapsed": true,
    "nbgrader": {
     "grade": true,
     "grade_id": "q1c_test3",
     "locked": true,
     "points": 2,
     "schema_version": 1,
     "solution": false
    }
   },
   "outputs": [],
   "source": [
    "i3 = [1, 2, 3, 4, 5, 4, 3, 2, 1]\n",
    "assert is_palindrome(i3)"
   ]
  },
  {
   "cell_type": "code",
   "execution_count": null,
   "metadata": {
    "collapsed": true,
    "nbgrader": {
     "grade": true,
     "grade_id": "q1c_test4",
     "locked": true,
     "points": 2,
     "schema_version": 1,
     "solution": false
    }
   },
   "outputs": [],
   "source": [
    "i4 = [1, 2, 3, 4, 5, 5, 4, 3, 2, 1]\n",
    "assert is_palindrome(i4)"
   ]
  },
  {
   "cell_type": "code",
   "execution_count": null,
   "metadata": {
    "collapsed": true,
    "nbgrader": {
     "grade": true,
     "grade_id": "q1c_test5",
     "locked": true,
     "points": 2,
     "schema_version": 1,
     "solution": false
    }
   },
   "outputs": [],
   "source": [
    "i5 = [1, 2, 3, 4, 5, 5, 4, 3, 2]\n",
    "assert not is_palindrome(i5)"
   ]
  },
  {
   "cell_type": "markdown",
   "metadata": {
    "nbgrader": {
     "grade": false,
     "grade_id": "q1d_prompt",
     "locked": true,
     "schema_version": 1,
     "solution": false
    }
   },
   "source": [
    "### Part D\n",
    "\n",
    "Write a function that chops a specified number of elements off the *front and back* of a list.\n",
    "\n",
    "Your function should:\n",
    "\n",
    " - be named `strip_n`\n",
    " - take 2 arguments: a list of numbers, and the number of list elements to remove from the front and back of the list\n",
    " - return 1 value: the modified input list with specified number of leading and tailing elements removed\n",
    " \n",
    "If the number of elements specified to strip from the list is infeasible--for example, asking to chop 3 elements off the front and back of a 1-element list--you should raise a `ValueError`.\n",
    " \n",
    "For example, `strip_n([1, 2, 3], 1)` should return `[2]`. The second argument \"1\" means you should chop 1 element off the front (1) and 1 element off the back (3) and return the remaining list `[2]`. If the number of elements to chop off had been 2 instead of 1, you would have raised a `ValueError`, since you can't chop 2 elements off the front and back--a total of 4 elements--when your list only has 3 elements total.\n",
    "\n",
    "You cannot use any built-in functions or additional imports."
   ]
  },
  {
   "cell_type": "code",
   "execution_count": null,
   "metadata": {
    "collapsed": true,
    "nbgrader": {
     "grade": false,
     "grade_id": "q1d",
     "locked": false,
     "schema_version": 1,
     "solution": true
    }
   },
   "outputs": [],
   "source": []
  },
  {
   "cell_type": "code",
   "execution_count": null,
   "metadata": {
    "collapsed": true,
    "nbgrader": {
     "grade": true,
     "grade_id": "q1d_test1",
     "locked": true,
     "points": 5,
     "schema_version": 1,
     "solution": false
    }
   },
   "outputs": [],
   "source": [
    "i1 = [1, 2, 3]\n",
    "n1 = 1\n",
    "a1 = [2]\n",
    "assert set(a1) == set(strip_n(i1, n1))"
   ]
  },
  {
   "cell_type": "code",
   "execution_count": null,
   "metadata": {
    "collapsed": true,
    "nbgrader": {
     "grade": true,
     "grade_id": "q1d_test2",
     "locked": true,
     "points": 5,
     "schema_version": 1,
     "solution": false
    }
   },
   "outputs": [],
   "source": [
    "i2 = [1, 2, 3, 4]\n",
    "n2 = 2\n",
    "a2 = []\n",
    "assert set(a2) == set(strip_n(i2, n2))"
   ]
  },
  {
   "cell_type": "code",
   "execution_count": null,
   "metadata": {
    "collapsed": true,
    "nbgrader": {
     "grade": true,
     "grade_id": "q1d_test3",
     "locked": true,
     "points": 5,
     "schema_version": 1,
     "solution": false
    }
   },
   "outputs": [],
   "source": [
    "i3 = [1, 2, 3, 4, 5]\n",
    "n3 = 3\n",
    "try:\n",
    "    strip_n(i3, n3)\n",
    "except ValueError:\n",
    "    assert True\n",
    "else:\n",
    "    assert False"
   ]
  }
 ],
 "metadata": {
  "anaconda-cloud": {},
  "celltoolbar": "Create Assignment",
  "kernelspec": {
   "display_name": "Python 3",
   "language": "python",
   "name": "python3"
  },
  "language_info": {
   "codemirror_mode": {
    "name": "ipython",
    "version": 3
   },
   "file_extension": ".py",
   "mimetype": "text/x-python",
   "name": "python",
   "nbconvert_exporter": "python",
   "pygments_lexer": "ipython3",
   "version": "3.6.5"
  }
 },
 "nbformat": 4,
 "nbformat_minor": 1
}
