{
 "cells": [
  {
   "cell_type": "markdown",
   "metadata": {
    "nbgrader": {
     "grade": false,
     "grade_id": "q3_prompt",
     "locked": true,
     "schema_version": 1,
     "solution": false
    }
   },
   "source": [
    "# Question 3\n",
    "\n",
    "This question will focusing on looping and using dictionaries."
   ]
  },
  {
   "cell_type": "markdown",
   "metadata": {
    "nbgrader": {
     "grade": false,
     "grade_id": "q3a_prompt",
     "locked": true,
     "schema_version": 1,
     "solution": false
    }
   },
   "source": [
    "### Part A\n",
    "\n",
    "In this part, you'll write a safe version of testing a dictionary for a specific key and extracting the corresponding element. Normally, if you try to access a key that does not exist, your program crashes with a `KeyError` exception.\n",
    "\n",
    "Here, you'll write a function which:\n",
    "\n",
    " - is named `safe_access`\n",
    " - takes 3 arguments: a dictionary, a key, and a *default return value*\n",
    " - returns 1 value: the value in the dictionary for the given key, or the default return value\n",
    " \n",
    "The third argument to this function is a *default argument*, whose initial value should be the Python keyword `None`.\n",
    "\n",
    "Your task in this function is three-fold:\n",
    "\n",
    " 1. Try to access the value in the dictionary at the given key (wrap this in a `try-except` statement)\n",
    " 2. If the access is successful, just return the value\n",
    " 3. If the access is NOT successful (i.e. you caught a `KeyError`), then return the default value instead\n",
    " \n",
    "You must include a `try-except` statement in your function!"
   ]
  },
  {
   "cell_type": "code",
   "execution_count": null,
   "metadata": {
    "collapsed": true,
    "nbgrader": {
     "grade": false,
     "grade_id": "q3a",
     "locked": false,
     "schema_version": 1,
     "solution": true
    }
   },
   "outputs": [],
   "source": []
  },
  {
   "cell_type": "code",
   "execution_count": null,
   "metadata": {
    "collapsed": true,
    "nbgrader": {
     "grade": true,
     "grade_id": "q3a_test1",
     "locked": true,
     "points": 5,
     "schema_version": 1,
     "solution": false
    }
   },
   "outputs": [],
   "source": [
    "v1 = safe_access({\"one\": [1, 2, 3], \"two\": [4, 5, 6], \"three\": \"something\"}, \"three\")\n",
    "assert v1 == \"something\""
   ]
  },
  {
   "cell_type": "code",
   "execution_count": null,
   "metadata": {
    "collapsed": true,
    "nbgrader": {
     "grade": true,
     "grade_id": "q3a_test2",
     "locked": true,
     "points": 5,
     "schema_version": 1,
     "solution": false
    }
   },
   "outputs": [],
   "source": [
    "v2 = safe_access({\"one\": [1, 2, 3], \"two\": [4, 5, 6], \"three\": \"something\"}, \"two\", [10, 11, 12])\n",
    "assert set(v2) == set((4, 5, 6))"
   ]
  },
  {
   "cell_type": "code",
   "execution_count": null,
   "metadata": {
    "collapsed": true,
    "nbgrader": {
     "grade": true,
     "grade_id": "q3a_test3",
     "locked": true,
     "points": 5,
     "schema_version": 1,
     "solution": false
    }
   },
   "outputs": [],
   "source": [
    "default_val = 3\n",
    "try:\n",
    "    value = safe_access({\"one\": 1, \"two\": 2}, \"three\", default_val)\n",
    "except:\n",
    "    assert False\n",
    "else:\n",
    "    assert value == default_val"
   ]
  },
  {
   "cell_type": "markdown",
   "metadata": {
    "nbgrader": {
     "grade": false,
     "grade_id": "q3b_prompt",
     "locked": true,
     "schema_version": 1,
     "solution": false
    }
   },
   "source": [
    "### Part B\n",
    "\n",
    "Write a function that finds all occurrences of a specific value in a list, and records--in a separate list--these occurrences in terms of the *indices* where they were found.\n",
    "\n",
    "Your function should:\n",
    "\n",
    " - be named `find_all`\n",
    " - take 2 arguments: a list of items, and a single element to search for in the list\n",
    " - returns 1 list: a list of *indices* into the input list that correspond to elements in the input list that match what we were looking for\n",
    " \n",
    "For example, `find_all([1, 2, 3, 4, 5, 2], 2)` would return `[1, 5]`. `find_all([1, 2, 3], 0)` should return `[]`.\n",
    "\n",
    "You cannot use any built-in functions besides `len()` and `range()`."
   ]
  },
  {
   "cell_type": "code",
   "execution_count": null,
   "metadata": {
    "collapsed": true,
    "nbgrader": {
     "grade": false,
     "grade_id": "q3b",
     "locked": false,
     "schema_version": 1,
     "solution": true
    }
   },
   "outputs": [],
   "source": []
  },
  {
   "cell_type": "code",
   "execution_count": null,
   "metadata": {
    "collapsed": true,
    "nbgrader": {
     "grade": true,
     "grade_id": "q3b_test1",
     "locked": true,
     "points": 5,
     "schema_version": 1,
     "solution": false
    }
   },
   "outputs": [],
   "source": [
    "l1 = [1, 2, 3, 4, 5, 2]\n",
    "s1 = 2\n",
    "a1 = [1, 5]\n",
    "assert set(a1) == set(find_all(l1, s1))"
   ]
  },
  {
   "cell_type": "code",
   "execution_count": null,
   "metadata": {
    "collapsed": true,
    "nbgrader": {
     "grade": true,
     "grade_id": "q3b_test2",
     "locked": true,
     "points": 5,
     "schema_version": 1,
     "solution": false
    }
   },
   "outputs": [],
   "source": [
    "l2 = [\"a\", \"random\", \"set\", \"of\", \"strings\", \"for\", \"an\", \"interesting\", \"strings\", \"problem\"]\n",
    "s2 = \"strings\"\n",
    "a2 = [4, 8]\n",
    "assert set(a2) == set(find_all(l2, s2))"
   ]
  },
  {
   "cell_type": "code",
   "execution_count": null,
   "metadata": {
    "collapsed": true,
    "nbgrader": {
     "grade": true,
     "grade_id": "q3b_test3",
     "locked": true,
     "points": 5,
     "schema_version": 1,
     "solution": false
    }
   },
   "outputs": [],
   "source": [
    "l3 = [1, 2, 3, 4, 5, 6, 7, 8, 9, 10]\n",
    "s3 = 1001\n",
    "a3 = []\n",
    "assert set(a3) == set(find_all(l3, s3))"
   ]
  },
  {
   "cell_type": "markdown",
   "metadata": {
    "nbgrader": {
     "grade": false,
     "grade_id": "q3c_prompt",
     "locked": true,
     "schema_version": 1,
     "solution": false
    }
   },
   "source": [
    "### Part C\n",
    "\n",
    "Write a function which provides counts of very specific elements in a list. This function will return a dictionary where the keys are the elements you wanted to find, and their values are the number of times (counts) they were found in the target list.\n",
    "\n",
    "*HINT*: You can use your answer to Part B here to expedite the solution! You don't have to, but you can, as it partially solves the problem here. To do that, simply call your function `find_all`--you do NOT need to copy/paste it into the cell below! Python will see it in an earlier cell and will know that it exists (as long as you've hit the \"Play\" button on that cell, of course. and if you make any changes to it, you should hit the \"Play\" button again; this updates it in the Python program, kind of like hitting \"Save\" on a Word doc).\n",
    "\n",
    "Your function should:\n",
    "\n",
    " - be named `element_counts`\n",
    " - take 2 arguments, both lists: a list of your data, and a list of elements you want counted in your data\n",
    " - return a dictionary: keys are the elements you wanted counted, and values are their counts in the data\n",
    " \n",
    "For example, `element_counts([1, 2, 3, 4, 5, 2], [2, 5])` would return `{2: 2, 5: 1}`, as there were two 2s in the data list, and one 5. Another example would be `element_counts([1, 2, 3], [0, 1])`, which would return `{0: 0, 1: 1}`, as there were no 0s in the original list, and one 1.\n",
    "\n",
    "You cannot use any built-in functions besides `len()` and `range()`."
   ]
  },
  {
   "cell_type": "code",
   "execution_count": null,
   "metadata": {
    "collapsed": true,
    "nbgrader": {
     "grade": false,
     "grade_id": "q3c",
     "locked": false,
     "schema_version": 1,
     "solution": true
    }
   },
   "outputs": [],
   "source": []
  },
  {
   "cell_type": "code",
   "execution_count": null,
   "metadata": {
    "collapsed": true,
    "nbgrader": {
     "grade": true,
     "grade_id": "q3c_test1",
     "locked": true,
     "points": 5,
     "schema_version": 1,
     "solution": false
    }
   },
   "outputs": [],
   "source": [
    "l1 = [1, 2, 3, 4, 5, 2]\n",
    "s1 = [2, 5]\n",
    "a1 = {2: 2, 5: 1}\n",
    "assert a1 == element_counts(l1, s1)"
   ]
  },
  {
   "cell_type": "code",
   "execution_count": null,
   "metadata": {
    "collapsed": true,
    "nbgrader": {
     "grade": true,
     "grade_id": "q3c_test2",
     "locked": true,
     "points": 5,
     "schema_version": 1,
     "solution": false
    }
   },
   "outputs": [],
   "source": [
    "l2 = [\"a\", \"random\", \"set\", \"of\", \"strings\", \"for\", \"an\", \"interesting\", \"strings\", \"problem\"]\n",
    "s2 = [\"strings\", \"of\", \"notinthelist\"]\n",
    "a2 = {\"strings\": 2, \"of\": 1, \"notinthelist\": 0}\n",
    "assert a2 == element_counts(l2, s2)"
   ]
  }
 ],
 "metadata": {
  "anaconda-cloud": {},
  "celltoolbar": "Edit Metadata",
  "kernelspec": {
   "display_name": "Python 3",
   "language": "python",
   "name": "python3"
  },
  "language_info": {
   "codemirror_mode": {
    "name": "ipython",
    "version": 3
   },
   "file_extension": ".py",
   "mimetype": "text/x-python",
   "name": "python",
   "nbconvert_exporter": "python",
   "pygments_lexer": "ipython3",
   "version": "3.6.5"
  }
 },
 "nbformat": 4,
 "nbformat_minor": 1
}
