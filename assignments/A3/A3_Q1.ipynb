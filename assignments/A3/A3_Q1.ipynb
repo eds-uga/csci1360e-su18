{
 "cells": [
  {
   "cell_type": "markdown",
   "metadata": {
    "nbgrader": {
     "grade": false,
     "grade_id": "q1_prompt",
     "locked": true,
     "schema_version": 1,
     "solution": false
    }
   },
   "source": [
    "# Question 1\n",
    "\n",
    "Loops, loops, and more loops. And writing basic functions."
   ]
  },
  {
   "cell_type": "markdown",
   "metadata": {
    "nbgrader": {
     "grade": false,
     "grade_id": "q1a_prompt",
     "locked": true,
     "schema_version": 1,
     "solution": false
    }
   },
   "source": [
    "### Part A\n",
    "\n",
    "Write a function:\n",
    "\n",
    " - named `add_one`\n",
    " - takes 1 argument, a list\n",
    " - returns 1 value, a list\n",
    " \n",
    "In this function, you should loop through each element of the argument list, add 1 to it, and then return the new list.\n",
    "\n",
    "For example, `add_one([1, 2, 3])` should return `[2, 3, 4]`. No imports!\n",
    "\n",
    "*HINT*: I would highly recommend constructing a *new* list, rather than updating the *old* one."
   ]
  },
  {
   "cell_type": "code",
   "execution_count": null,
   "metadata": {
    "collapsed": true,
    "nbgrader": {
     "grade": false,
     "grade_id": "q1a",
     "locked": false,
     "schema_version": 1,
     "solution": true
    }
   },
   "outputs": [],
   "source": []
  },
  {
   "cell_type": "code",
   "execution_count": null,
   "metadata": {
    "collapsed": true,
    "nbgrader": {
     "grade": true,
     "grade_id": "q1a_test1",
     "locked": true,
     "points": 5,
     "schema_version": 1,
     "solution": false
    }
   },
   "outputs": [],
   "source": [
    "import numpy as np\n",
    "np.random.seed(7584)\n",
    "\n",
    "list1 = np.random.randint(-100, 100, 10)\n",
    "actual1 = list1 + 1\n",
    "pred1 = add_one(list1.tolist())\n",
    "assert set(pred1) == set(actual1.tolist())"
   ]
  },
  {
   "cell_type": "code",
   "execution_count": null,
   "metadata": {
    "collapsed": true,
    "nbgrader": {
     "grade": true,
     "grade_id": "q1a_test2",
     "locked": true,
     "points": 5,
     "schema_version": 1,
     "solution": false
    }
   },
   "outputs": [],
   "source": [
    "np.random.seed(68527)\n",
    "\n",
    "list2 = np.random.randint(-100, 100, 100)\n",
    "actual2 = list2 + 1\n",
    "pred2 = add_one(list2.tolist())\n",
    "assert set(pred2) == set(actual2.tolist())"
   ]
  },
  {
   "cell_type": "markdown",
   "metadata": {
    "nbgrader": {
     "grade": false,
     "grade_id": "q1b_prompt",
     "locked": true,
     "schema_version": 1,
     "solution": false
    }
   },
   "source": [
    "### Part B\n",
    "\n",
    "Write a function that adds an arbitrary integer quantity to every element in a list. This is just like Part A, except instead of adding 1 to each element, you add some positive integer x to each one.\n",
    "\n",
    "This function should:\n",
    "\n",
    " - be named `add_to_list`\n",
    " - take 2 arguments: the list, and the number\n",
    " - return a list: the new list that contains the added elements\n",
    " \n",
    "In this function, you should loop through each element of the argument list, add the second argument to it, and then return the new list.\n",
    "\n",
    "For example, `add_to_list([1, 2, 3], 1)` should return `[2, 3, 4]`, just like in Part A. `add_to_list([1, 2, 3], 5)` should return `[6, 7, 8]`. No imports!\n",
    "\n",
    "*HINT*: I would highly recommend constructing a *new* list, rather than updating the *old* one."
   ]
  },
  {
   "cell_type": "code",
   "execution_count": null,
   "metadata": {
    "collapsed": true,
    "nbgrader": {
     "grade": false,
     "grade_id": "q1b",
     "locked": false,
     "schema_version": 1,
     "solution": true
    }
   },
   "outputs": [],
   "source": []
  },
  {
   "cell_type": "code",
   "execution_count": null,
   "metadata": {
    "collapsed": true,
    "nbgrader": {
     "grade": true,
     "grade_id": "q1b_test1",
     "locked": true,
     "points": 5,
     "schema_version": 1,
     "solution": false
    }
   },
   "outputs": [],
   "source": [
    "import numpy as np\n",
    "np.random.seed(2846)\n",
    "\n",
    "list1 = np.random.randint(-100, 100, 10)\n",
    "num1 = 15\n",
    "actual1 = list1 + num1\n",
    "pred1 = add_to_list(list1.tolist(), num1)\n",
    "assert set(pred1) == set(actual1.tolist())"
   ]
  },
  {
   "cell_type": "code",
   "execution_count": null,
   "metadata": {
    "collapsed": true,
    "nbgrader": {
     "grade": true,
     "grade_id": "q1b_test2",
     "locked": true,
     "points": 5,
     "schema_version": 1,
     "solution": false
    }
   },
   "outputs": [],
   "source": [
    "np.random.seed(68527)\n",
    "\n",
    "list2 = np.random.randint(-100, 100, 100)\n",
    "num2 = np.random.randint(0, 100)\n",
    "actual2 = list2 + num2\n",
    "pred2 = add_to_list(list2.tolist(), num2)\n",
    "assert set(pred2) == set(actual2.tolist())"
   ]
  },
  {
   "cell_type": "markdown",
   "metadata": {
    "nbgrader": {
     "grade": false,
     "grade_id": "q1c_prompt",
     "locked": true,
     "schema_version": 1,
     "solution": false
    }
   },
   "source": [
    "### Part C\n",
    "\n",
    "Write a function:\n",
    "\n",
    " - named `list_of_positive_indices`\n",
    " - takes 1 arguments, a list\n",
    " - returns 1 value, a list\n",
    " \n",
    "In this function, you should loop through each element of the argument list. If the element is *positive*, then you should append the *index number of the positive element* to a new list. If not, skip that index (i.e. do nothing). Once the loop is finished, return the new list.\n",
    "\n",
    "For example, `list_of_positive_indices([1, -1, 0, 3])` should return `[0, 3]`. No imports!\n",
    "\n",
    "*HINT*: Instead of doing a simple `for element in list:` loop, try using the `range()` function in the loop header."
   ]
  },
  {
   "cell_type": "code",
   "execution_count": null,
   "metadata": {
    "collapsed": true,
    "nbgrader": {
     "grade": false,
     "grade_id": "q1c",
     "locked": false,
     "schema_version": 1,
     "solution": true
    }
   },
   "outputs": [],
   "source": []
  },
  {
   "cell_type": "code",
   "execution_count": null,
   "metadata": {
    "collapsed": true,
    "nbgrader": {
     "grade": true,
     "grade_id": "q1c_test1",
     "locked": true,
     "points": 5,
     "schema_version": 1,
     "solution": false
    }
   },
   "outputs": [],
   "source": [
    "import numpy as np\n",
    "np.random.seed(986)\n",
    "\n",
    "list1 = np.random.randint(-100, 100, 10)\n",
    "indices1 = np.arange(list1.shape[0])[list1 > 0].tolist()\n",
    "pred1 = list_of_positive_indices(list1.tolist())\n",
    "assert set(pred1) == set(indices1)"
   ]
  },
  {
   "cell_type": "code",
   "execution_count": null,
   "metadata": {
    "collapsed": true,
    "nbgrader": {
     "grade": true,
     "grade_id": "q1c_test2",
     "locked": true,
     "points": 5,
     "schema_version": 1,
     "solution": false
    }
   },
   "outputs": [],
   "source": [
    "np.random.seed(578752)\n",
    "\n",
    "list2 = np.random.randint(-100, 100, 100)\n",
    "indices2 = np.arange(list2.shape[0])[list2 > 0].tolist()\n",
    "pred2 = list_of_positive_indices(list2.tolist())\n",
    "assert set(pred2) == set(indices2)"
   ]
  }
 ],
 "metadata": {
  "anaconda-cloud": {},
  "celltoolbar": "Create Assignment",
  "kernelspec": {
   "display_name": "Python 3",
   "language": "python",
   "name": "python3"
  },
  "language_info": {
   "codemirror_mode": {
    "name": "ipython",
    "version": 3
   },
   "file_extension": ".py",
   "mimetype": "text/x-python",
   "name": "python",
   "nbconvert_exporter": "python",
   "pygments_lexer": "ipython3",
   "version": "3.6.5"
  }
 },
 "nbformat": 4,
 "nbformat_minor": 1
}
