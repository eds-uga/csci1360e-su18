{
 "cells": [
  {
   "cell_type": "markdown",
   "metadata": {
    "nbgrader": {
     "grade": false,
     "grade_id": "a3_intro",
     "locked": true,
     "schema_version": 1,
     "solution": false
    }
   },
   "source": [
    "# Assignment 3\n",
    "CSCI 1360E: Foundations for Informatics and Analytics\n",
    "\n",
    "## Important Dates\n",
    "\n",
    " - Released: 2018-06-19 at 12am [EDT](http://www.timeanddate.com/worldclock/usa/athens)\n",
    " - Deadline: 2018-06-23 at 11:59:59pm [EDT](http://www.timeanddate.com/worldclock/usa/athens)\n",
    "\n",
    "## Grading Breakdown\n",
    "\n",
    " - Q1: 30pts\n",
    " - Q2: 30pts\n",
    " - Q3: 40pts\n",
    " \n",
    "Total: 100pts\n",
    "\n",
    " - BONUS, Part A: 20pts\n",
    " - BONUS, Part B: 20pts\n",
    " \n",
    "## Overview\n",
    "\n",
    "This assignment will go over loops, conditionals, and basics of functions in Python.\n",
    "\n",
    "Starting with this assignment and continuing for the rest of the semester, you will no longer have to complete partially-filled functions. Instead, you'll be writing your solutions to the questions entirely from scratch by defining and filling in functions of your creation.\n",
    "\n",
    "Post any questions on Slack to `#questions`! Believe me when I say: you won't be the only one with a particular question!"
   ]
  }
 ],
 "metadata": {
  "anaconda-cloud": {},
  "celltoolbar": "Create Assignment",
  "kernelspec": {
   "display_name": "Python 3",
   "language": "python",
   "name": "python3"
  },
  "language_info": {
   "codemirror_mode": {
    "name": "ipython",
    "version": 3
   },
   "file_extension": ".py",
   "mimetype": "text/x-python",
   "name": "python",
   "nbconvert_exporter": "python",
   "pygments_lexer": "ipython3",
   "version": "3.6.5"
  }
 },
 "nbformat": 4,
 "nbformat_minor": 1
}
