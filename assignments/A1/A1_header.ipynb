{
 "cells": [
  {
   "cell_type": "markdown",
   "metadata": {
    "collapsed": true,
    "nbgrader": {
     "grade": false,
     "grade_id": "a1_header",
     "locked": true,
     "schema_version": 1,
     "solution": false
    }
   },
   "source": [
    "# Assignment 1\n",
    "CSCI 1360E: Foundations for Informatics and Analytics\n",
    "\n",
    "## Important Dates\n",
    "\n",
    " - Released: 2018-06-12 at 12:00:00am [EDT](http://www.timeanddate.com/worldclock/usa/athens)\n",
    " - Deadline: 2018-06-16 at 11:59:59pm [EDT](http://www.timeanddate.com/worldclock/usa/athens)\n",
    "\n",
    "## Grading Breakdown\n",
    "\n",
    " - Q1: 30pts\n",
    " - Q2: 35pts\n",
    " - Q3: 35pts\n",
    " \n",
    "Total: 100pts\n",
    "\n",
    " - BONUS, Part A: 15pts\n",
    " - BONUS, Part B: 15pts\n",
    " \n",
    "## Overview\n",
    "\n",
    "This homework assignment is meant to reinforce the basics of Python: data types, data structures, and looping.\n",
    "\n",
    "When you're coding and you see a line that starts with **`raise ...`**, you can either comment it out (use the pound sign \"`#`\") or delete it entirely. That is how the autograder identifies the parts you have not yet filled in."
   ]
  }
 ],
 "metadata": {
  "celltoolbar": "Create Assignment",
  "kernelspec": {
   "display_name": "Python 3",
   "language": "python",
   "name": "python3"
  },
  "language_info": {
   "codemirror_mode": {
    "name": "ipython",
    "version": 3
   },
   "file_extension": ".py",
   "mimetype": "text/x-python",
   "name": "python",
   "nbconvert_exporter": "python",
   "pygments_lexer": "ipython3",
   "version": "3.6.5"
  }
 },
 "nbformat": 4,
 "nbformat_minor": 1
}
