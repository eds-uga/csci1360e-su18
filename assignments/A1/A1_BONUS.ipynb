{
 "cells": [
  {
   "cell_type": "markdown",
   "metadata": {
    "collapsed": true,
    "nbgrader": {
     "grade": false,
     "grade_id": "qbonus_prompt",
     "locked": true,
     "schema_version": 1,
     "solution": false
    }
   },
   "source": [
    "# BONUS\n",
    "\n",
    "In this question, we're just going to go crazy with data structures and looping."
   ]
  },
  {
   "cell_type": "markdown",
   "metadata": {
    "nbgrader": {
     "grade": false,
     "grade_id": "qbonusa_prompt",
     "locked": true,
     "schema_version": 1,
     "solution": false
    }
   },
   "source": [
    "### Part A\n",
    "\n",
    "In this question, you'll write some code that takes two lists, and creates a third list that is a collection of sums from the corresponding elements in the first two lists.\n",
    "\n",
    "As an example, if the two input lists are `[1, 2, 3]` and `[4, 5, 6]`, then the summed third list would be `[5, 7, 9]`, where each element of the list is the sum of the corresponding elements from the other two lists.\n",
    "\n",
    "**Hint**: Think of a function from lecture that's useful for combining multiple lists into a single iterable--with some variable unpacking, you can very easily write a loop over it."
   ]
  },
  {
   "cell_type": "code",
   "execution_count": null,
   "metadata": {
    "collapsed": true,
    "nbgrader": {
     "grade": false,
     "grade_id": "qbonusa",
     "locked": false,
     "schema_version": 1,
     "solution": true
    }
   },
   "outputs": [],
   "source": [
    "def sum_lists(list1, list2):\n",
    "    sum_list = []\n",
    "    \n",
    "    ### BEGIN SOLUTION\n",
    "    \n",
    "    ### END SOLUTION\n",
    "    \n",
    "    return sum_list"
   ]
  },
  {
   "cell_type": "code",
   "execution_count": null,
   "metadata": {
    "collapsed": true,
    "nbgrader": {
     "grade": true,
     "grade_id": "qbonusa_test",
     "locked": true,
     "points": 15,
     "schema_version": 1,
     "solution": false
    }
   },
   "outputs": [],
   "source": [
    "import numpy as np\n",
    "a1 = np.random.random(50)\n",
    "a2 = np.random.random(50)\n",
    "np.testing.assert_allclose(a1 + a2, np.array(sum_lists(a1.tolist(), a2.tolist())))"
   ]
  },
  {
   "cell_type": "markdown",
   "metadata": {
    "nbgrader": {
     "grade": false,
     "grade_id": "qbonusb_prompt",
     "locked": true,
     "schema_version": 1,
     "solution": false
    }
   },
   "source": [
    "### Part B\n",
    "\n",
    "In the code below, there's a function named `how_many_calls` that takes one argument. That argument is a number (an integer); specifically, a stopping criterion.\n",
    "\n",
    "Your goal is to write a `while` loop inside the `how_many_calls` function. In each iteration of the while loop, it should call the function `magic()`, which will return an integer. You should then check to see if that integer equals `stop_val`; if it does, then the while loop ends. If not, you should increment `calls` and keep going.\n",
    "\n",
    "The goal is to see how many times the `while` loop has to be executed (as counted by the `calls` variable) until the integer returned by `magic()` is the same as the `stop_val` argument.\n",
    "\n",
    "**To be clear: the `calls` variable should count the number of times the `magic()` function is called.**"
   ]
  },
  {
   "cell_type": "code",
   "execution_count": null,
   "metadata": {
    "collapsed": true,
    "nbgrader": {
     "grade": false,
     "grade_id": "qbonusb",
     "locked": false,
     "schema_version": 1,
     "solution": true
    }
   },
   "outputs": [],
   "source": [
    "def how_many_calls(stop_val):\n",
    "    calls = 0\n",
    "    \n",
    "    ### BEGIN SOLUTION\n",
    "    \n",
    "    ### END SOLUTION\n",
    "    \n",
    "    return calls"
   ]
  },
  {
   "cell_type": "code",
   "execution_count": null,
   "metadata": {
    "collapsed": true,
    "nbgrader": {
     "grade": true,
     "grade_id": "qbonusb_test",
     "locked": true,
     "points": 15,
     "schema_version": 1,
     "solution": false
    }
   },
   "outputs": [],
   "source": [
    "def magic():\n",
    "    return np.random.randint(0, 10)\n",
    "\n",
    "import numpy as np\n",
    "np.random.seed(3849)\n",
    "s1 = 5\n",
    "l1 = 7\n",
    "assert l1 == how_many_calls(s1)\n",
    "\n",
    "np.random.seed(895768)\n",
    "s2 = 3\n",
    "l2 = 21\n",
    "assert l2 == how_many_calls(s2)"
   ]
  }
 ],
 "metadata": {
  "anaconda-cloud": {},
  "celltoolbar": "Create Assignment",
  "kernelspec": {
   "display_name": "Python 3",
   "language": "python",
   "name": "python3"
  },
  "language_info": {
   "codemirror_mode": {
    "name": "ipython",
    "version": 3
   },
   "file_extension": ".py",
   "mimetype": "text/x-python",
   "name": "python",
   "nbconvert_exporter": "python",
   "pygments_lexer": "ipython3",
   "version": "3.6.5"
  }
 },
 "nbformat": 4,
 "nbformat_minor": 1
}
