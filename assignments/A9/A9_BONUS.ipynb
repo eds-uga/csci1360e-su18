{
 "cells": [
  {
   "cell_type": "markdown",
   "metadata": {
    "nbgrader": {
     "grade": false,
     "grade_id": "bonus_prompt",
     "locked": true,
     "schema_version": 1,
     "solution": false
    }
   },
   "source": [
    "# BONUS\n",
    "\n",
    "In this question, we'll do some basic processing on a real-world dataset, courtesy of Kaggle: \"A Million News Headlines\" from ABC, published over the *15-year period* beginning 2003 and through 2017. You can [download the dataset and play with it yourself](https://www.kaggle.com/therohk/million-headlines/version/6) (though it's available on JupyterHub as well for this assignment)."
   ]
  },
  {
   "cell_type": "markdown",
   "metadata": {
    "nbgrader": {
     "grade": false,
     "grade_id": "bonusa_prompt",
     "locked": true,
     "schema_version": 1,
     "solution": false
    }
   },
   "source": [
    "### Part A\n",
    "\n",
    "Write a function to read and process the input into a usable format. This function should\n",
    "\n",
    " - be named `parse_csv`,\n",
    " - take 1 argument: the name of the input file to read\n",
    " - return 1 value: a dictionary, where each key is a unique date, and each value is a *list* of *titles* of all headlines posted on that date\n",
    " \n",
    "The *input* file will be a comma-separated text file, the same one that's available on Kaggle. The very first line contains file metadata and can be safely ignored. Each subsequent line is a single news header, with its accompanying timestamp (year, month, day). These two values are separated by a comma--no other punctuation exists.\n",
    "\n",
    "The first four lines of the 1-million-plus line file look like this:\n",
    "\n",
    "```\n",
    "publish_date,headline_text\n",
    "20030219,aba decides against community broadcasting licence\n",
    "20030219,act fire witnesses must be aware of defamation\n",
    "20030219,a g calls for infrastructure protection summit\n",
    "```\n",
    "\n",
    "Again, skip the very first line. After that, for each line, keep track of both the date/timestamp and the news header. Add the key (timestamp) to the dictionary if it doesn't already exist, and include the value as a new element to a list under that key (make sure you `strip()` both strings before adding them). Do this for each header in the file, then return the dictionary containing all this information.\n",
    "\n",
    "**No external packages are allowed (this includes NumPy).** You can use built-in functions like `range`, `zip`, `enumerate`, and `open`. "
   ]
  },
  {
   "cell_type": "code",
   "execution_count": null,
   "metadata": {
    "nbgrader": {
     "grade": false,
     "grade_id": "bonusa",
     "locked": false,
     "schema_version": 1,
     "solution": true
    }
   },
   "outputs": [],
   "source": []
  },
  {
   "cell_type": "code",
   "execution_count": null,
   "metadata": {
    "nbgrader": {
     "grade": true,
     "grade_id": "bonusa_test",
     "locked": true,
     "points": 10,
     "schema_version": 1,
     "solution": false
    }
   },
   "outputs": [],
   "source": [
    "import json\n",
    "ytrue = json.load(open(\"d.json\", \"r\"))\n",
    "ypred = parse_csv(\"abcnews-date-text.csv\")\n",
    "assert ytrue == ypred"
   ]
  },
  {
   "cell_type": "markdown",
   "metadata": {
    "nbgrader": {
     "grade": false,
     "grade_id": "bonusb",
     "locked": true,
     "schema_version": 1,
     "solution": false
    }
   },
   "source": [
    "### Part B\n",
    "\n",
    "Using your `parse_csv` function from Part A, answer the question: **how many total news headings are there, total?** Show the code you needed to run to obtain this answer, and use the text field to explain (in a paragraph that could fit in a tweet).\n",
    "\n",
    "**No other imports are allowed.**\n",
    "\n",
    "*Hint*: you'll want to pass `abcnews-date-text.csv` into your function as its input argument."
   ]
  },
  {
   "cell_type": "code",
   "execution_count": null,
   "metadata": {
    "nbgrader": {
     "grade": true,
     "grade_id": "bonusb_code",
     "locked": false,
     "points": 5,
     "schema_version": 1,
     "solution": true
    }
   },
   "outputs": [],
   "source": []
  },
  {
   "cell_type": "markdown",
   "metadata": {
    "nbgrader": {
     "grade": true,
     "grade_id": "bonusb_text",
     "locked": false,
     "points": 5,
     "schema_version": 1,
     "solution": true
    }
   },
   "source": []
  },
  {
   "cell_type": "code",
   "execution_count": null,
   "metadata": {
    "nbgrader": {
     "grade": true,
     "grade_id": "bonusb_answer",
     "locked": true,
     "points": 0,
     "schema_version": 1,
     "solution": false
    }
   },
   "outputs": [],
   "source": [
    "# Please DO NOT MODIFY THIS CELL! Thank you!\n",
    "\n",
    "### BEGIN HIDDEN TESTS\n",
    "\n",
    "# The answer: 1103665 headings\n",
    "# The code should read in the data and count the number of elements\n",
    "# under each key.\n",
    "\n",
    "### END HIDDEN TESTS"
   ]
  },
  {
   "cell_type": "markdown",
   "metadata": {
    "nbgrader": {
     "grade": false,
     "grade_id": "bonusc_prompt",
     "locked": true,
     "schema_version": 1,
     "solution": false
    }
   },
   "source": [
    "### Part C\n",
    "\n",
    "Using your `parse_csv` function from Part A, answer the question: **in what *year* were the *most* headings posted?** Show the code you needed to run to obtain this answer, and use the text field to explain (in a paragraph that could fit in a tweet).\n",
    "\n",
    "**No other imports are allowed.**\n",
    "\n",
    "*Hint*: you'll want to pass `abcnews-date-text.csv` into your function as its input argument."
   ]
  },
  {
   "cell_type": "code",
   "execution_count": null,
   "metadata": {
    "nbgrader": {
     "grade": true,
     "grade_id": "bonusc_code",
     "locked": false,
     "points": 5,
     "schema_version": 1,
     "solution": true
    }
   },
   "outputs": [],
   "source": []
  },
  {
   "cell_type": "markdown",
   "metadata": {
    "nbgrader": {
     "grade": true,
     "grade_id": "bonusc_text",
     "locked": false,
     "points": 5,
     "schema_version": 1,
     "solution": true
    }
   },
   "source": []
  },
  {
   "cell_type": "code",
   "execution_count": null,
   "metadata": {
    "nbgrader": {
     "grade": true,
     "grade_id": "bonusc_answer",
     "locked": true,
     "points": 0,
     "schema_version": 1,
     "solution": false
    }
   },
   "outputs": [],
   "source": [
    "# Please DO NOT MODIFY THIS CELL! Thank you!\n",
    "\n",
    "### BEGIN HIDDEN TESTS\n",
    "\n",
    "# The answer: 2012 and 2016 are tied for the most with 366 headings each.\n",
    "# The code will probably use another dictionary to key up the years\n",
    "# from the original data and count the headings under those years.\n",
    "\n",
    "### END HIDDEN TESTS"
   ]
  },
  {
   "cell_type": "markdown",
   "metadata": {
    "nbgrader": {
     "grade": false,
     "grade_id": "bonusd_prompt",
     "locked": true,
     "schema_version": 1,
     "solution": false
    }
   },
   "source": [
    "### Part D\n",
    "\n",
    "Using your `parse_csv` function from Part A, answer the question: **what are the most common words for each year?** Remove the following stopwords from consideration: `[\"to\", \"for\", \"in\", \"on\", \"of\", \"the\", \"over\", \"at\", \"and\", \"a\", \"with\", \"an\", \"after\"]`. Show the code you needed to run to obtain this answer, and use the text field to explain (in a paragraph that could fit in a tweet).\n",
    "\n",
    "**You may use `defaultdict` and `Counter` to answer this question.** To use them, add the following statement at the beginning of your code:\n",
    "\n",
    "`from collections import defaultdict, Counter`\n",
    "\n",
    "The documentation for `defaultdict` is [here](https://docs.python.org/3/library/collections.html#collections.defaultdict), and for `Counter` is [here](https://docs.python.org/3/library/collections.html#collections.Counter) (both are on different parts of the same webpage).\n",
    "\n",
    "*Hint*: you'll want to pass `abcnews-date-text.csv` into your function as its input argument."
   ]
  },
  {
   "cell_type": "code",
   "execution_count": null,
   "metadata": {
    "nbgrader": {
     "grade": true,
     "grade_id": "bonusd_code",
     "locked": false,
     "points": 5,
     "schema_version": 1,
     "solution": true
    }
   },
   "outputs": [],
   "source": [
    "# I've gone ahead and imported things you can use and defined your list of stopwords.\n",
    "from collections import defaultdict, Counter\n",
    "stopwords = [\"to\", \"for\", \"in\", \"on\", \"of\", \"the\", \"over\", \"at\", \"and\", \"a\", \"with\", \"an\", \"after\"]\n",
    "\n",
    "### BEGIN SOLUTION\n",
    "\n",
    "### END SOLUTION"
   ]
  },
  {
   "cell_type": "markdown",
   "metadata": {
    "nbgrader": {
     "grade": true,
     "grade_id": "bonusd_text",
     "locked": false,
     "points": 5,
     "schema_version": 1,
     "solution": true
    }
   },
   "source": []
  },
  {
   "cell_type": "code",
   "execution_count": null,
   "metadata": {
    "nbgrader": {
     "grade": true,
     "grade_id": "bonusd_answer",
     "locked": true,
     "points": 0,
     "schema_version": 1,
     "solution": false
    }
   },
   "outputs": [],
   "source": [
    "# Please DO NOT MODIFY THIS CELL! Thank you!\n",
    "\n",
    "### BEGIN HIDDEN TESTS\n",
    "\n",
    "# The answer should look something like this:\n",
    "\n",
    "\"\"\"\n",
    "2003 [('us', 2399)]\n",
    "2004 [('police', 2767)]\n",
    "2005 [('police', 2934)]\n",
    "2006 [('police', 2458)]\n",
    "2007 [('police', 3330)]\n",
    "2008 [('police', 3141)]\n",
    "2009 [('police', 2669)]\n",
    "2010 [('interview', 2807)]\n",
    "2011 [('police', 2102)]\n",
    "2012 [('interview', 2438)]\n",
    "2013 [('new', 2533)]\n",
    "2014 [('new', 2405)]\n",
    "2015 [('new', 2503)]\n",
    "2016 [('man', 1820)]\n",
    "2017 [('says', 1369)]\n",
    "\"\"\"\n",
    "\n",
    "# The code will again need to group the output of parse_csv\n",
    "# by year, but will also have to break the headings up into\n",
    "# individual words. defaultdict(int) may be used to count\n",
    "# these words. Counter can then be used for each year's\n",
    "# word count to pick out the top word.\n",
    "\n",
    "### END HIDDEN TESTS"
   ]
  }
 ],
 "metadata": {
  "celltoolbar": "Create Assignment",
  "kernelspec": {
   "display_name": "Python 3",
   "language": "python",
   "name": "python3"
  },
  "language_info": {
   "codemirror_mode": {
    "name": "ipython",
    "version": 3
   },
   "file_extension": ".py",
   "mimetype": "text/x-python",
   "name": "python",
   "nbconvert_exporter": "python",
   "pygments_lexer": "ipython3",
   "version": "3.6.6"
  }
 },
 "nbformat": 4,
 "nbformat_minor": 2
}
