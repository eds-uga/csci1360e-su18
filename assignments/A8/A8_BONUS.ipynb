{
 "cells": [
  {
   "cell_type": "markdown",
   "metadata": {
    "nbgrader": {
     "grade": false,
     "grade_id": "qbonus_prompt",
     "locked": true,
     "schema_version": 1,
     "solution": false
    }
   },
   "source": [
    "# BONUS\n",
    "\n",
    "In this question, we'll take a break from your regularly-scheduled probability and stats to bring you some *anomaly detection!*"
   ]
  },
  {
   "cell_type": "markdown",
   "metadata": {
    "nbgrader": {
     "grade": false,
     "grade_id": "qbonusa_prompt",
     "locked": true,
     "schema_version": 1,
     "solution": false
    }
   },
   "source": [
    "### Part A\n",
    "\n",
    "Anomaly detection is a huge area of data science and cybersecurity. Even on a single computer, there are hundreds of little programs running simultaneously, all generating log files that record their behavior. Parsing these log files is tricky by itself, but detecting when a program may be misbehaving from its logs can be very challenging; what's the threshold at which behavior goes from normal to suspicious?\n",
    "\n",
    "In this first part, you'll write code that flags certain sequences of numbers. Write a function that\n",
    "\n",
    " - is named `flag_segments`\n",
    " - takes 2 arguments:  a list of 1s and 0s (the log file), and an *optional* integer indicating the count threshold of a log sequence to be flagged as suspicious (default is 4)\n",
    " - returns a list containing the starting indices in the log file of suspicious sequences\n",
    "\n",
    "For example, if the input log file is `inputlog = [1, 0, 1, 1, 1, 1, 0, 0, 1, 1, 1, 1]`, then `flag_segments(inputlog, 4)` should return `[2, 8]`. To explain this:\n",
    " - a threshold of 4 is set (the second input argument), meaning a sequence of 4 or more 1s is considered suspicious\n",
    " - the starting indices in the `inputlog` of sequences of 4 or more 1s is recorded in the return list (look at the 1s in that list; there are two sequences of at least four 1s in a row; `2` and `8` are the starting indices in `inputlog` of these sequences)\n",
    "\n",
    "A string of 1s that is contiguous is considered **one sequence**; as such, even if the number of contiguous 1s is a multiple of the threshold argument, still only consider it 1 sequence. Put another way, the sequence doesn't break until you observe a 0. After that, the next 1 is the start of a *new* sequence of 1s.\n",
    "\n",
    "You can't use any imports or built-in functions aside from `range()`, `len()`, and `enumerate()`."
   ]
  },
  {
   "cell_type": "code",
   "execution_count": null,
   "metadata": {
    "collapsed": true,
    "nbgrader": {
     "grade": false,
     "grade_id": "qbonusa",
     "locked": false,
     "schema_version": 1,
     "solution": true
    }
   },
   "outputs": [],
   "source": []
  },
  {
   "cell_type": "code",
   "execution_count": null,
   "metadata": {
    "collapsed": true,
    "nbgrader": {
     "grade": true,
     "grade_id": "qbonusa_test1",
     "locked": true,
     "points": 10,
     "schema_version": 1,
     "solution": false
    }
   },
   "outputs": [],
   "source": [
    "import numpy as np\n",
    "\n",
    "np.random.seed(583945)\n",
    "l1 = np.random.randint(2, size = 1000).tolist()\n",
    "a1 = set([39,87,96,132,137,169,174,185,235,257,269,292, 323, 472, 564, 583, 610, 628, 653, 695, 735, 783, 808, 865, 872, 880, 905,933,957,963,990])\n",
    "assert set(flag_segments(l1)) == a1"
   ]
  },
  {
   "cell_type": "code",
   "execution_count": null,
   "metadata": {
    "collapsed": true,
    "nbgrader": {
     "grade": true,
     "grade_id": "qbonusa_test2",
     "locked": true,
     "points": 10,
     "schema_version": 1,
     "solution": false
    }
   },
   "outputs": [],
   "source": [
    "np.random.seed(49854)\n",
    "l2 = np.random.randint(2, size = 1000).tolist()\n",
    "a2 = set([61, 74, 90, 117, 124, 132, 151, 163, 179, 198, 229, 265, 297, 302, 354, 420, 479, 546, 582, 597, 632, 694, 778, 791, 923])\n",
    "assert set(flag_segments(l2)) == a2"
   ]
  },
  {
   "cell_type": "code",
   "execution_count": null,
   "metadata": {
    "collapsed": true,
    "nbgrader": {
     "grade": true,
     "grade_id": "qbonusa_test3",
     "locked": true,
     "points": 10,
     "schema_version": 1,
     "solution": false
    }
   },
   "outputs": [],
   "source": [
    "np.random.seed(578472)\n",
    "l3 = np.random.randint(2, size = 1000).tolist()\n",
    "a3 = set([957, 478])\n",
    "assert set(flag_segments(l3, 8)) == a3"
   ]
  },
  {
   "cell_type": "markdown",
   "metadata": {
    "nbgrader": {
     "grade": false,
     "grade_id": "qbonusb_prompt",
     "locked": true,
     "schema_version": 1,
     "solution": false
    }
   },
   "source": [
    "### Part B\n",
    "\n",
    "On average, how many consecutive 0s precede a flagged sequence of suspicious 1s? Write a function which\n",
    "\n",
    " - is named `preceding_zeros`\n",
    " - takes 2 arguments: a list of 1s and 0s (the same log file as Part A), and a list of index-based flags (output from Part A)\n",
    " - returns 1 float: the average number of 0s preceding any suspicious sequence of 1s in the log \n",
    " \n",
    "You cannot use any imports or built-in functions aside from `range()`, `len()`, and `enumerate()`. \n",
    "\n",
    "*Hint*: You should use your function from Part A to identify the starting indices of \"suspicious sequences of 1s\", and then use those indices to essentially \"backpedal\" to count the 0s."
   ]
  },
  {
   "cell_type": "code",
   "execution_count": null,
   "metadata": {
    "collapsed": true,
    "nbgrader": {
     "grade": false,
     "grade_id": "qbonusb",
     "locked": false,
     "schema_version": 1,
     "solution": true
    }
   },
   "outputs": [],
   "source": []
  },
  {
   "cell_type": "code",
   "execution_count": null,
   "metadata": {
    "collapsed": true,
    "nbgrader": {
     "grade": true,
     "grade_id": "qbonusb_test1",
     "locked": true,
     "points": 10,
     "schema_version": 1,
     "solution": false
    }
   },
   "outputs": [],
   "source": [
    "import numpy as np\n",
    "\n",
    "np.random.seed(8959384)\n",
    "l1 = np.random.randint(2, size = 1000).tolist()\n",
    "f1 = [25, 86, 104, 157, 180, 215, 259, 321, 346, 430, 518, 523, 537, 636, 657, 678, 687, 714, 771, 796, 820, 828, 850, 894, 902, 926, 954, 959]\n",
    "a1 = 2.357143\n",
    "np.testing.assert_allclose(preceding_zeros(l1, f1), a1)"
   ]
  },
  {
   "cell_type": "code",
   "execution_count": null,
   "metadata": {
    "collapsed": true,
    "nbgrader": {
     "grade": true,
     "grade_id": "qbonusb_test2",
     "locked": true,
     "points": 10,
     "schema_version": 1,
     "solution": false
    }
   },
   "outputs": [],
   "source": [
    "np.random.seed(94721)\n",
    "l2 = np.random.randint(2, size = 1000).tolist()\n",
    "f2 = [0, 13, 28, 48, 53, 72, 78, 102, 125, 132, 139, 155, 166, 206, 229, 319, 391, 418, 463, 532, 566, 574, 636, 661, 697, 732, 785, 830, 863, 912, 944, 980]\n",
    "a2 = 1.78125\n",
    "np.testing.assert_allclose(preceding_zeros(l2, f2), a2)"
   ]
  }
 ],
 "metadata": {
  "anaconda-cloud": {},
  "celltoolbar": "Create Assignment",
  "kernelspec": {
   "display_name": "Python 3",
   "language": "python",
   "name": "python3"
  },
  "language_info": {
   "codemirror_mode": {
    "name": "ipython",
    "version": 3
   },
   "file_extension": ".py",
   "mimetype": "text/x-python",
   "name": "python",
   "nbconvert_exporter": "python",
   "pygments_lexer": "ipython3",
   "version": "3.6.5"
  }
 },
 "nbformat": 4,
 "nbformat_minor": 1
}
