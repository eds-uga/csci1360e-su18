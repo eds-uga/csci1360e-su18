{
 "cells": [
  {
   "cell_type": "markdown",
   "metadata": {
    "nbgrader": {
     "grade": false,
     "grade_id": "q1_prompt",
     "locked": true,
     "schema_version": 1,
     "solution": false
    }
   },
   "source": [
    "# Question 1\n",
    "\n",
    "In this question, we'll compute some basic probabilities of events using loops, lists, and dictionaries."
   ]
  },
  {
   "cell_type": "markdown",
   "metadata": {
    "nbgrader": {
     "grade": false,
     "grade_id": "q1a_prompt",
     "locked": true,
     "schema_version": 1,
     "solution": false
    }
   },
   "source": [
    "### Part A\n",
    "\n",
    "The [Polya urn model](https://en.wikipedia.org/wiki/P%C3%B3lya_urn_model) is a popular model for both statistics and to illustrate certain mental exercises.\n",
    "\n",
    "![polyaurn](urn.png)\n",
    "\n",
    "Typically, these exercises involve randomly selecting colored balls, and these selection exercises can vary the properties of the remaining contents of the urn. A common question to ask is: given some number of colors and some number of balls, what are the chances of randomly selecting a ball of a specific color?\n",
    "\n",
    "Write a function which:\n",
    "\n",
    " - is named `urn_to_dict`\n",
    " - takes 1 argument: a list of color names (e.g. \"blue\", \"red\", \"green\", etc)\n",
    " - returns 1 value: a dictionary, with color names for keys and the frequency counts of those colors as values\n",
    "\n",
    "The contents of the urn will be handed to you in a list form (the input argument), where each element of the list represents a ball in an urn, and the element itself will be a certain color. You then need to count how many times each color occurs in the list, and assemble those counts in the dictionary that your function should return.\n",
    "\n",
    "For example, the list `[\"blue\", \"blue\", \"green\", \"blue\"]` should result in the dictionary `{\"blue\": 3, \"green\": 1}`. Use the `urn_dict` dictionary object to store the results."
   ]
  },
  {
   "cell_type": "code",
   "execution_count": null,
   "metadata": {
    "nbgrader": {
     "grade": false,
     "grade_id": "q1a",
     "locked": false,
     "schema_version": 1,
     "solution": true
    }
   },
   "outputs": [],
   "source": []
  },
  {
   "cell_type": "code",
   "execution_count": null,
   "metadata": {
    "nbgrader": {
     "grade": true,
     "grade_id": "q1a_test1",
     "locked": true,
     "points": 5,
     "schema_version": 1,
     "solution": false
    }
   },
   "outputs": [],
   "source": [
    "u1 = [\"green\", \"green\", \"blue\", \"green\"]\n",
    "a1 = set({(\"green\", 3), (\"blue\", 1)})\n",
    "assert a1 == set(urn_to_dict(u1).items())"
   ]
  },
  {
   "cell_type": "code",
   "execution_count": null,
   "metadata": {
    "nbgrader": {
     "grade": true,
     "grade_id": "q1a_test2",
     "locked": true,
     "points": 10,
     "schema_version": 1,
     "solution": false
    }
   },
   "outputs": [],
   "source": [
    "u2 = [\"red\", \"blue\", \"blue\", \"green\", \"yellow\", \"black\", \"black\", \"green\", \"blue\", \"yellow\", \"red\", \"green\", \"blue\", \"black\", \"yellow\", \"yellow\", \"yellow\", \"green\", \"blue\", \"red\", \"red\", \"blue\", \"red\", \"blue\", \"yellow\", \"yellow\", \"yellow\"]\n",
    "a2 = set({('black', 3), ('blue', 7), ('green', 4), ('red', 5), ('yellow', 8)})\n",
    "assert a2 == set(urn_to_dict(u2).items())"
   ]
  },
  {
   "cell_type": "markdown",
   "metadata": {
    "nbgrader": {
     "grade": false,
     "grade_id": "q1b_prompt",
     "locked": true,
     "schema_version": 1,
     "solution": false
    }
   },
   "source": [
    "### Part B\n",
    "\n",
    "In this part, you'll write code to compute the probabilities of certain colors using the dictionary object in the previous part. Your code will receive a dictionary of colors with their relative counts (i.e., the output of Part A), and a \"query\" color, and you will need to return the chances of randomly selecting a ball of that query color.\n",
    "\n",
    "Write a function which:\n",
    "\n",
    " - is named `chances_of_color`\n",
    " - takes 2 arguments: a dictionary mapping colors to counts (output of Part A), and a string that will contain a query color\n",
    " - returns 1 value: a floating-point number, the probability of selecting the \"query\" color at random\n",
    "\n",
    "Remember, probability is a fraction: the numerator is the number of occurrences of the event you're interested in, and the denominator is the number of all possible events. It's kind of like an average.\n",
    "\n",
    "For example, if the input dictionary is `{\"red\": 3, \"blue\": 1}` and the query color is `\"blue\"`, then the fraction you would return is `1/4`, or 0.25 (probabilities should **always** be between 0 and 1)."
   ]
  },
  {
   "cell_type": "code",
   "execution_count": null,
   "metadata": {
    "nbgrader": {
     "grade": false,
     "grade_id": "q1b",
     "locked": false,
     "schema_version": 1,
     "solution": true
    }
   },
   "outputs": [],
   "source": []
  },
  {
   "cell_type": "code",
   "execution_count": null,
   "metadata": {
    "nbgrader": {
     "grade": true,
     "grade_id": "q1b_test1",
     "locked": true,
     "points": 5,
     "schema_version": 1,
     "solution": false
    }
   },
   "outputs": [],
   "source": [
    "import numpy.testing as t\n",
    "c1 = {\"blue\": 3, \"red\": 1}\n",
    "t.assert_allclose(chances_of_color(c1, \"blue\"), 0.75)"
   ]
  },
  {
   "cell_type": "code",
   "execution_count": null,
   "metadata": {
    "nbgrader": {
     "grade": true,
     "grade_id": "q1b_test2",
     "locked": true,
     "points": 5,
     "schema_version": 1,
     "solution": false
    }
   },
   "outputs": [],
   "source": [
    "import numpy.testing as t\n",
    "c2 = {\"red\": 934, \"blue\": 493859, \"yellow\": 31, \"green\": 3892, \"black\": 487}\n",
    "t.assert_allclose(chances_of_color(c2, \"green\"), 0.007796427505443677)"
   ]
  },
  {
   "cell_type": "code",
   "execution_count": null,
   "metadata": {
    "nbgrader": {
     "grade": true,
     "grade_id": "q1b_test3",
     "locked": true,
     "points": 5,
     "schema_version": 1,
     "solution": false
    }
   },
   "outputs": [],
   "source": [
    "import numpy.testing as t\n",
    "c3 = {\"red\": 5, \"blue\": 5, \"yellow\": 5, \"green\": 5, \"black\": 5}\n",
    "t.assert_allclose(chances_of_color(c2, \"orange\"), 0.0)"
   ]
  },
  {
   "cell_type": "markdown",
   "metadata": {
    "nbgrader": {
     "grade": false,
     "grade_id": "q1c_prompt",
     "locked": true,
     "schema_version": 1,
     "solution": false
    }
   },
   "source": [
    "### Part C\n",
    "\n",
    "In this part, you'll do the opposite of what you implemented in Part B: you'll get a dictionary and a query color, but you'll need to return the chances of drawing a ball that is *not* the same color as the query.\n",
    "\n",
    "Write a function which:\n",
    "\n",
    " - is named `chances_of_not_color`\n",
    " - takes 2 arguments: a dictionary mapping colors to counts (output of Part A), and a string that will contain a query color\n",
    " - returns 1 value: a floating-point number, the probability of **NOT** selecting the \"query\" color at random\n",
    "\n",
    "For example, if the input dictionary is `{\"red\": 3, \"blue\": 1}` and the query color is `\"blue\"`, then the fraction you would return is `3/4`, or 0.75.\n",
    "\n",
    "HINT: You can use the function you wrote in Part B to help!"
   ]
  },
  {
   "cell_type": "code",
   "execution_count": null,
   "metadata": {
    "nbgrader": {
     "grade": false,
     "grade_id": "q1c",
     "locked": false,
     "schema_version": 1,
     "solution": true
    }
   },
   "outputs": [],
   "source": []
  },
  {
   "cell_type": "code",
   "execution_count": null,
   "metadata": {
    "nbgrader": {
     "grade": true,
     "grade_id": "q1c_test1",
     "locked": true,
     "points": 10,
     "schema_version": 1,
     "solution": false
    }
   },
   "outputs": [],
   "source": [
    "import numpy.testing as t\n",
    "c1 = {\"blue\": 3, \"red\": 1}\n",
    "t.assert_allclose(chances_of_not_color(c1, \"blue\"), 0.25)"
   ]
  },
  {
   "cell_type": "code",
   "execution_count": null,
   "metadata": {
    "nbgrader": {
     "grade": true,
     "grade_id": "q1c_test2",
     "locked": true,
     "points": 10,
     "schema_version": 1,
     "solution": false
    }
   },
   "outputs": [],
   "source": [
    "import numpy.testing as t\n",
    "c2 = {\"red\": 934, \"blue\": 493859, \"yellow\": 31, \"green\": 3892, \"black\": 487}\n",
    "t.assert_allclose(chances_of_not_color(c2, \"blue\"), 0.010705063871811693)"
   ]
  },
  {
   "cell_type": "code",
   "execution_count": null,
   "metadata": {
    "nbgrader": {
     "grade": true,
     "grade_id": "q1c_test3",
     "locked": true,
     "points": 10,
     "schema_version": 1,
     "solution": false
    }
   },
   "outputs": [],
   "source": [
    "import numpy.testing as t\n",
    "c3 = {\"red\": 5, \"blue\": 5, \"yellow\": 5, \"green\": 5, \"black\": 5}\n",
    "t.assert_allclose(chances_of_not_color(c2, \"orange\"), 1.0)"
   ]
  },
  {
   "cell_type": "markdown",
   "metadata": {
    "nbgrader": {
     "grade": false,
     "grade_id": "q1d_prompt",
     "locked": true,
     "schema_version": 1,
     "solution": false
    }
   },
   "source": [
    "### Part D\n",
    "\n",
    "Even more interesting is when we start talking about combinations of colors. Let's say I'm reaching into a Polya urn to pull out *two* balls; it's valuable to know what my chances of *at least 1 ball* being a certain color would be.\n",
    "\n",
    "Write a function which:\n",
    "\n",
    " - is named `select_chances`\n",
    " - takes 3 arguments: a list of colors of balls in an urn (same as input to Part A), an integer number (number of balls to draw out of the urn), and a string containing a single color\n",
    " - returns 1 value: a floating-point number, the probability that at least one ball from the \"number\" drawn from the urn is the specified color\n",
    "\n",
    "Remember, you compute probability exactly as before--the number of events of interest (selecting a certain number of balls with at least one of a certain color) divided by the total number of possible events (all possible draws)--only this time you'll need to account for *combinations* of multiple balls.\n",
    "\n",
    "For example, if I give you an urn list of `[\"blue\", \"green\", \"red\"]`, the number `2`, and the query color `\"blue\"`, then you would return `2/3`, or 0.66666 (There are three possible combinations of groupings of 2 balls: blue-green, blue-red, and green-red. Two of these three combinations contain the query color blue).\n",
    "\n",
    "*HINT*: It will be very, very helpful if make use of the `itertools` module, and specifically its `combinations` function, for generating combinations of colored balls. If you can't remember how the module works, [consult its documentation](https://docs.python.org/3/library/itertools.html#itertools.combinations). Or just ask on `#questions`. Seriously though, it will vastly simplify your life in this question."
   ]
  },
  {
   "cell_type": "code",
   "execution_count": null,
   "metadata": {
    "nbgrader": {
     "grade": false,
     "grade_id": "q1d",
     "locked": false,
     "schema_version": 1,
     "solution": true
    }
   },
   "outputs": [],
   "source": []
  },
  {
   "cell_type": "code",
   "execution_count": null,
   "metadata": {
    "nbgrader": {
     "grade": true,
     "grade_id": "q1d_test1",
     "locked": true,
     "points": 10,
     "schema_version": 1,
     "solution": false
    }
   },
   "outputs": [],
   "source": [
    "import numpy.testing as t\n",
    "q1 = [\"blue\", \"green\", \"red\"]\n",
    "t.assert_allclose(select_chances(q1, 2, \"red\"), 2/3)"
   ]
  },
  {
   "cell_type": "code",
   "execution_count": null,
   "metadata": {
    "nbgrader": {
     "grade": true,
     "grade_id": "q1d_test2",
     "locked": true,
     "points": 10,
     "schema_version": 1,
     "solution": false
    }
   },
   "outputs": [],
   "source": [
    "q2 = [\"red\", \"blue\", \"blue\", \"green\", \"yellow\", \"black\", \"black\", \"green\", \"blue\", \"yellow\", \"red\", \"green\", \"blue\", \"black\", \"yellow\", \"yellow\", \"yellow\", \"green\", \"blue\", \"red\", \"red\", \"blue\", \"red\", \"blue\", \"yellow\", \"yellow\", \"yellow\"]\n",
    "t.assert_allclose(select_chances(q2, 3, \"red\"), 0.4735042735042735)"
   ]
  },
  {
   "cell_type": "markdown",
   "metadata": {
    "nbgrader": {
     "grade": false,
     "grade_id": "q1e_prompt",
     "locked": true,
     "schema_version": 1,
     "solution": false
    }
   },
   "source": [
    "### Part E\n",
    "\n",
    "One final wrinkle: let's say I'm no longer picking colored balls simultaneously from the urn, but rather in sequence--that is, one right after the other. Now I can ask, for a given urn and a certain number of balls I'm going to pick, what are the chances that I draw a ball of a certain color *first*?\n",
    "\n",
    "For example, if I give you an urn list of `[\"blue\", \"green\", \"red\"]`, the number `2`, and the query color `\"blue\"`, then you would return `2/6`, or 0.33333.\n",
    "\n",
    "(There are six possible ways of drawing two balls in sequence:\n",
    " - BLUE then GREEN\n",
    " - BLUE then RED\n",
    " - GREEN then BLUE\n",
    " - GREEN then RED\n",
    " - RED then GREEN\n",
    " - RED then BLUE\n",
    "\n",
    "and two of those six involve drawing the blue one first)\n",
    "\n",
    "Write a function which:\n",
    "\n",
    " - is named `select_chances_first`\n",
    " - takes 3 arguments: a list of colors in the urn (same input as Part A and Part D), an integer number of balls to draw in sequence, and a string containing the query color for the first draw\n",
    " - returns 1 value: a floating-point number, the probability of drawing the query color first in a sequence of draws of the specified length\n",
    "\n",
    "You are welcome to again use `itertools.combinations`."
   ]
  },
  {
   "cell_type": "code",
   "execution_count": null,
   "metadata": {
    "nbgrader": {
     "grade": false,
     "grade_id": "q1e",
     "locked": false,
     "schema_version": 1,
     "solution": true
    }
   },
   "outputs": [],
   "source": []
  },
  {
   "cell_type": "code",
   "execution_count": null,
   "metadata": {
    "nbgrader": {
     "grade": true,
     "grade_id": "q1e_test1",
     "locked": true,
     "points": 10,
     "schema_version": 1,
     "solution": false
    }
   },
   "outputs": [],
   "source": [
    "import numpy.testing as t\n",
    "q1 = [\"blue\", \"green\", \"red\"]\n",
    "t.assert_allclose(select_chances_first(q1, 2, \"red\"), 2/6)"
   ]
  },
  {
   "cell_type": "code",
   "execution_count": null,
   "metadata": {
    "nbgrader": {
     "grade": true,
     "grade_id": "q1e_test2",
     "locked": true,
     "points": 10,
     "schema_version": 1,
     "solution": false
    }
   },
   "outputs": [],
   "source": [
    "q2 = [\"red\", \"blue\", \"blue\", \"green\", \"yellow\", \"black\", \"black\", \"orange\", \"green\", \"blue\", \"yellow\", \"red\", \"green\", \"blue\", \"black\", \"yellow\", \"yellow\", \"yellow\", \"green\", \"blue\", \"red\", \"red\", \"blue\", \"red\", \"blue\", \"yellow\", \"yellow\", \"yellow\"]\n",
    "t.assert_allclose(select_chances_first(q2, 3, \"red\"), 0.1565934065934066, rtol = 1e-6)"
   ]
  }
 ],
 "metadata": {
  "anaconda-cloud": {},
  "celltoolbar": "Create Assignment",
  "kernelspec": {
   "display_name": "Python 3",
   "language": "python",
   "name": "python3"
  },
  "language_info": {
   "codemirror_mode": {
    "name": "ipython",
    "version": 3
   },
   "file_extension": ".py",
   "mimetype": "text/x-python",
   "name": "python",
   "nbconvert_exporter": "python",
   "pygments_lexer": "ipython3",
   "version": "3.6.6"
  }
 },
 "nbformat": 4,
 "nbformat_minor": 1
}
