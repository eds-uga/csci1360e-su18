{
 "cells": [
  {
   "cell_type": "markdown",
   "metadata": {
    "collapsed": true,
    "nbgrader": {
     "grade": false,
     "grade_id": "a8_title",
     "locked": true,
     "schema_version": 1,
     "solution": false
    }
   },
   "source": [
    "# Assignment 8\n",
    "CSCI 1360E: Foundations for Informatics and Analytics"
   ]
  },
  {
   "cell_type": "markdown",
   "metadata": {
    "nbgrader": {
     "grade": false,
     "grade_id": "a8_dates",
     "locked": true,
     "schema_version": 1,
     "solution": false
    }
   },
   "source": [
    "## Important Dates\n",
    "\n",
    " - Released: 2018-07-12 at 12am [EDT](http://www.timeanddate.com/worldclock/usa/athens)\n",
    " - Deadline: 2018-07-16 at 11:59:59pm [EDT](http://www.timeanddate.com/worldclock/usa/athens)"
   ]
  },
  {
   "cell_type": "markdown",
   "metadata": {
    "nbgrader": {
     "grade": false,
     "grade_id": "a8_grades",
     "locked": true,
     "schema_version": 1,
     "solution": false
    }
   },
   "source": [
    "## Grading Breakdown\n",
    "\n",
    " - Q1: 100pts\n",
    " \n",
    "Total: 100pts\n",
    "\n",
    " - BONUS, Part A: 30pts\n",
    " - BONUS, Part B: 20pts"
   ]
  },
  {
   "cell_type": "markdown",
   "metadata": {
    "nbgrader": {
     "grade": false,
     "grade_id": "a8_overview",
     "locked": true,
     "schema_version": 1,
     "solution": false
    }
   },
   "source": [
    "## Overview\n",
    "\n",
    "This assignment will focus on computing probabilities.\n",
    "\n",
    "If you have any questions or difficulties with the assignment, don't hesitate to post them in the `#questions` Slack channel!"
   ]
  }
 ],
 "metadata": {
  "anaconda-cloud": {},
  "celltoolbar": "Create Assignment",
  "kernelspec": {
   "display_name": "Python 3",
   "language": "python",
   "name": "python3"
  },
  "language_info": {
   "codemirror_mode": {
    "name": "ipython",
    "version": 3
   },
   "file_extension": ".py",
   "mimetype": "text/x-python",
   "name": "python",
   "nbconvert_exporter": "python",
   "pygments_lexer": "ipython3",
   "version": "3.6.6"
  }
 },
 "nbformat": 4,
 "nbformat_minor": 1
}
