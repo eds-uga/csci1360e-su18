{
 "cells": [
  {
   "cell_type": "markdown",
   "metadata": {
    "nbgrader": {
     "grade": false,
     "grade_id": "bonus_prompt",
     "locked": true,
     "schema_version": 1,
     "solution": false
    }
   },
   "source": [
    "# BONUS\n",
    "\n",
    "scikit-image has some fairly impressive functionality, despite its relatively lightweight packaging. In fact, one submodule in particular can replicate almost the entirety of what you did in in this homework so far: `skimage.segmentation`. Check out [its documentation page](http://scikit-image.org/docs/dev/api/skimage.segmentation.html).\n",
    "\n",
    "In particular, check out the `skimage.segmentation.slic` function, the [documentation for which can be found here](http://scikit-image.org/docs/dev/api/skimage.segmentation.html#slic). There are quite a few optional arguments! But the most important arguments are:\n",
    " - the `image` to segment (the only required argument)\n",
    " - `n_segments`, or the number of desired image segments you'd like the algorithm to find (defaults to 100)\n",
    " - `compactness`, a float which is difficult to explain, so I'd recommend trying a range of values for this, e.g. `0.01, 0.1, 1, 10,`, and `100`.\n",
    " - `sigma`, the width of the Gaussian kernel used to smooth the image before segmenting it (again, try some different values here)\n",
    "\n",
    "**You'll need to read in the `noisy.png` image (included with this assignment).** Also, make sure to **plot the resulting segmentation maps.** No credit will be given unless there are accompanying segmentation plots!\n",
    "\n",
    "Except for that restriction, you're welcome to use NumPy and Matplotlib; you just can't use other segmentation techniques or strategies implemented elsewhere."
   ]
  },
  {
   "cell_type": "code",
   "execution_count": null,
   "metadata": {
    "collapsed": true,
    "nbgrader": {
     "grade": true,
     "grade_id": "bonus",
     "locked": false,
     "points": 20,
     "schema_version": 1,
     "solution": true
    }
   },
   "outputs": [],
   "source": []
  }
 ],
 "metadata": {
  "anaconda-cloud": {},
  "celltoolbar": "Create Assignment",
  "kernelspec": {
   "display_name": "Python 3",
   "language": "python",
   "name": "python3"
  },
  "language_info": {
   "codemirror_mode": {
    "name": "ipython",
    "version": 3
   },
   "file_extension": ".py",
   "mimetype": "text/x-python",
   "name": "python",
   "nbconvert_exporter": "python",
   "pygments_lexer": "ipython3",
   "version": "3.6.5"
  }
 },
 "nbformat": 4,
 "nbformat_minor": 1
}
