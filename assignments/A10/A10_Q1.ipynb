{
 "cells": [
  {
   "cell_type": "markdown",
   "metadata": {
    "collapsed": true,
    "nbgrader": {
     "grade": false,
     "grade_id": "q1_prompt",
     "locked": true,
     "schema_version": 1,
     "solution": false
    }
   },
   "source": [
    "# Question 1\n",
    "\n",
    "In this question, you'll be introduced to the `scikit-image` package. Only a small portion of the package will be explored; you're encouraged to check it out if this interests you!"
   ]
  },
  {
   "cell_type": "markdown",
   "metadata": {
    "collapsed": true,
    "nbgrader": {
     "grade": false,
     "grade_id": "q1a_prompt",
     "locked": true,
     "schema_version": 1,
     "solution": false
    }
   },
   "source": [
    "### Part A\n",
    "\n",
    "`scikit-image` is a pretty awesome all-purpose lightweight image analysis package for Python. In this part, you'll write a function to help prepare an image for analysis.\n",
    "\n",
    "In the first step, you'll need to convert the image to a grayscale format that is amenable to use by the rest of the scikit-image API. Write a function which:\n",
    "\n",
    " - is named `to_grayscale_uint` (for \"unsigned integer\")\n",
    " - takes 1 argument: a NumPy array representing an image\n",
    " - returns 1 value: a NumPy array, containing the converted image\n",
    " \n",
    "You can't use any built-in Python functions or imports beyond NumPy and `skimage.color`; you're welcome to use Matplotlib as well for debugging your code.\n",
    " \n",
    "Some relevant hints:\n",
    "\n",
    " 1. Look at the [`skimage.color` subpackage](http://scikit-image.org/docs/stable/api/skimage.color.html) for some useful conversion functions.\n",
    " 2. By default, scikit-image conversion functions will return images with floating-point representations from 0-1. We don't want that; we want integer representations from 0-255. NumPy has a data type for that: `np.uint8` (for 8-bit unsigned integer).\n",
    " 3. To the point above, recall that the [`np.array` function](https://docs.scipy.org/doc/numpy/reference/generated/numpy.array.html) takes an option argument `dtype` to specify the *type* of the underlying array."
   ]
  },
  {
   "cell_type": "code",
   "execution_count": null,
   "metadata": {
    "collapsed": true,
    "nbgrader": {
     "grade": false,
     "grade_id": "q1a",
     "locked": false,
     "schema_version": 1,
     "solution": true
    }
   },
   "outputs": [],
   "source": []
  },
  {
   "cell_type": "code",
   "execution_count": null,
   "metadata": {
    "collapsed": true,
    "nbgrader": {
     "grade": true,
     "grade_id": "q1a_test1",
     "locked": true,
     "points": 5,
     "schema_version": 1,
     "solution": false
    }
   },
   "outputs": [],
   "source": [
    "import numpy as np\n",
    "import skimage.data\n",
    "q1 = np.load(\"coffee_gray.npy\")\n",
    "np.testing.assert_allclose(to_grayscale_uint(skimage.data.coffee()), q1)"
   ]
  },
  {
   "cell_type": "code",
   "execution_count": null,
   "metadata": {
    "collapsed": true,
    "nbgrader": {
     "grade": true,
     "grade_id": "q1a_test2",
     "locked": true,
     "points": 5,
     "schema_version": 1,
     "solution": false
    }
   },
   "outputs": [],
   "source": [
    "q2 = np.load(\"chelsea_gray.npy\")\n",
    "np.testing.assert_allclose(to_grayscale_uint(skimage.data.chelsea()), q2)"
   ]
  },
  {
   "cell_type": "markdown",
   "metadata": {
    "nbgrader": {
     "grade": false,
     "grade_id": "q1b_prompt",
     "locked": true,
     "schema_version": 1,
     "solution": false
    }
   },
   "source": [
    "### Part B\n",
    "\n",
    "Next, you'll write some code to start segmenting the 8-bit grayscale image. This will involve thresholding it, applying a possible smoothing filter, and connecting the objects that remain.\n",
    "\n",
    "Write a function which:\n",
    "\n",
    " - is named `segment`\n",
    " - takes 2 arguments: a NumPy array of the 8-bit grayscale image (the lone required argument), and a default argument that sets the pixel threshold (default: `None`)\n",
    " - returns 1 value: the integer count of the number of objects found in the processed image\n",
    " \n",
    "To do the object connecting, you'll need to look at the [`skimage.measure.label` function](http://scikit-image.org/docs/stable/api/skimage.measure.html#label).\n",
    "\n",
    "You can assume that the image your function receives is effectively the output of your Part A function above (i.e. it's already in grayscale, and has pixel values that range from 0 to 255). Your job is to\n",
    "\n",
    " 1. threshold it, by setting any pixel below the threshold to 0 (unless the optional threshold parameter is `None`)\n",
    " 2. label the objects\n",
    " \n",
    "The third item comes from the aforementioned `skimage.measure.label` function. That function *can* return the number of objects (which is what your function is supposed to return, too), but **take careful notice of how to activate this ability, as it is turned OFF by default**.\n",
    "\n",
    "You can't use any built-in Python functions or other imports aside from `skimage` and `numpy`, though you may use `matplotlib` to debug."
   ]
  },
  {
   "cell_type": "code",
   "execution_count": null,
   "metadata": {
    "collapsed": true,
    "nbgrader": {
     "grade": false,
     "grade_id": "q1b",
     "locked": false,
     "schema_version": 1,
     "solution": true
    }
   },
   "outputs": [],
   "source": []
  },
  {
   "cell_type": "code",
   "execution_count": null,
   "metadata": {
    "collapsed": true,
    "nbgrader": {
     "grade": true,
     "grade_id": "q1b_test1",
     "locked": true,
     "points": 5,
     "schema_version": 1,
     "solution": false
    }
   },
   "outputs": [],
   "source": [
    "import numpy as np\n",
    "\n",
    "img1 = np.load(\"chelsea_gray.npy\")\n",
    "obj1 = 91585\n",
    "assert obj1 == segment(img1)"
   ]
  },
  {
   "cell_type": "code",
   "execution_count": null,
   "metadata": {
    "collapsed": true,
    "nbgrader": {
     "grade": true,
     "grade_id": "q1b_test2",
     "locked": true,
     "points": 5,
     "schema_version": 1,
     "solution": false
    }
   },
   "outputs": [],
   "source": [
    "img1 = np.load(\"chelsea_gray.npy\")\n",
    "obj2 = 88223\n",
    "t1 = 50\n",
    "assert obj2 == segment(img1, t1)"
   ]
  },
  {
   "cell_type": "code",
   "execution_count": null,
   "metadata": {
    "collapsed": true,
    "nbgrader": {
     "grade": true,
     "grade_id": "q1b_test3",
     "locked": true,
     "points": 5,
     "schema_version": 1,
     "solution": false
    }
   },
   "outputs": [],
   "source": [
    "img2 = np.load(\"ihc_gray.npy\")\n",
    "obj3 = 217299\n",
    "assert obj3 == segment(img2)"
   ]
  },
  {
   "cell_type": "code",
   "execution_count": null,
   "metadata": {
    "collapsed": true,
    "nbgrader": {
     "grade": true,
     "grade_id": "q1b_test4",
     "locked": true,
     "points": 5,
     "schema_version": 1,
     "solution": false
    }
   },
   "outputs": [],
   "source": [
    "img2 = np.load(\"ihc_gray.npy\")\n",
    "obj4 = 76677\n",
    "t2 = 180\n",
    "assert obj4 == segment(img2, t2)"
   ]
  },
  {
   "cell_type": "code",
   "execution_count": null,
   "metadata": {
    "collapsed": true,
    "nbgrader": {
     "grade": true,
     "grade_id": "q1b_test5",
     "locked": true,
     "points": 5,
     "schema_version": 1,
     "solution": false
    }
   },
   "outputs": [],
   "source": [
    "img3 = np.load(\"coffee_gray.npy\")\n",
    "obj5 = 150792\n",
    "assert obj5 == segment(img3)"
   ]
  },
  {
   "cell_type": "markdown",
   "metadata": {
    "nbgrader": {
     "grade": false,
     "grade_id": "q1c_prompt",
     "locked": true,
     "schema_version": 1,
     "solution": false
    }
   },
   "source": [
    "### Part C\n",
    "\n",
    "In this part, you'll use the function you wrote in Part B to compute some properties of the objects that are revealed using the `skimage.measure.label` output.\n",
    "\n",
    "Your goal is to find the object with the largest area, and return a ratio of that object's other properties. Write a function which:\n",
    "\n",
    " - is named `ratio_largest_area`\n",
    " - takes 2 arguments: a NumPy array of the 8-bit grayscale image (the lone required argument), and a default argument that sets the pixel threshold (default: `None`)\n",
    " - returns 1 value: a floating-point number that is the ratio of the minor axis length to the major axis length\n",
    " \n",
    "Yes, this takes the same arguments as the function you wrote in Part B. You'll need to perform the same operations, but instead of computing the number of objects, you'll need the other output from the `skimage.measure.label` function: the actual labeled array.\n",
    "\n",
    "After thresholding the input image (or not) and determining the labeled array, you'll need to feed that array to the [`skimage.measure.regionprops` function](http://scikit-image.org/docs/stable/api/skimage.measure.html#skimage.measure.regionprops). This computes a variety of properties on each object that's found by the `label` function.\n",
    "\n",
    "In this list of region properties, find the one with the largest *area*. Then, take that region's minor and major axis lengths, and create the ratio:\n",
    "\n",
    "$$\n",
    "\\frac{minor}{major}\n",
    "$$\n",
    "\n",
    "This should be somewhere between 0 and 1. **Your function should return that ratio.**\n",
    "\n",
    "You can use loops (`len` and `range`, though you shouldn't really need them), NumPy, and scikit-image. Nothing else."
   ]
  },
  {
   "cell_type": "code",
   "execution_count": null,
   "metadata": {
    "collapsed": true,
    "nbgrader": {
     "grade": false,
     "grade_id": "q1c",
     "locked": false,
     "schema_version": 1,
     "solution": true
    }
   },
   "outputs": [],
   "source": []
  },
  {
   "cell_type": "code",
   "execution_count": null,
   "metadata": {
    "collapsed": true,
    "nbgrader": {
     "grade": true,
     "grade_id": "q1c_test1",
     "locked": true,
     "points": 5,
     "schema_version": 1,
     "solution": false
    }
   },
   "outputs": [],
   "source": [
    "import numpy as np\n",
    "img1 = np.load(\"ihc_gray.npy\")\n",
    "rat1 = 0.4251056202959775\n",
    "np.testing.assert_allclose(ratio_largest_area(img1), rat1)"
   ]
  },
  {
   "cell_type": "code",
   "execution_count": null,
   "metadata": {
    "collapsed": true,
    "nbgrader": {
     "grade": true,
     "grade_id": "q1c_test2",
     "locked": true,
     "points": 5,
     "schema_version": 1,
     "solution": false
    }
   },
   "outputs": [],
   "source": [
    "img1 = np.load(\"ihc_gray.npy\")\n",
    "t1 = 240\n",
    "rat2 = 0.38196601125010504\n",
    "np.testing.assert_allclose(ratio_largest_area(img1, t1), rat2)"
   ]
  },
  {
   "cell_type": "code",
   "execution_count": null,
   "metadata": {
    "collapsed": true,
    "nbgrader": {
     "grade": true,
     "grade_id": "q1c_test3",
     "locked": true,
     "points": 5,
     "schema_version": 1,
     "solution": false
    }
   },
   "outputs": [],
   "source": [
    "img2 = np.load(\"chelsea_gray.npy\")\n",
    "t2 = 50\n",
    "rat3 = 0.7494253874318644\n",
    "np.testing.assert_allclose(ratio_largest_area(img2, t2), rat3)"
   ]
  }
 ],
 "metadata": {
  "anaconda-cloud": {},
  "celltoolbar": "Create Assignment",
  "kernelspec": {
   "display_name": "Python 3",
   "language": "python",
   "name": "python3"
  },
  "language_info": {
   "codemirror_mode": {
    "name": "ipython",
    "version": 3
   },
   "file_extension": ".py",
   "mimetype": "text/x-python",
   "name": "python",
   "nbconvert_exporter": "python",
   "pygments_lexer": "ipython3",
   "version": "3.6.5"
  }
 },
 "nbformat": 4,
 "nbformat_minor": 1
}
