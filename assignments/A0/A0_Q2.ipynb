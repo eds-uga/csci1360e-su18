{
 "cells": [
  {
   "cell_type": "markdown",
   "metadata": {
    "nbgrader": {
     "grade": false,
     "grade_id": "q2_prompt",
     "locked": true,
     "schema_version": 1,
     "solution": false
    }
   },
   "source": [
    "# Question 2\n",
    "\n",
    "This question will walk you through the process of how a coding assignment in JupyterHub will work. In the following parts, you'll edit the sections of code needed to pass the autograder.\n",
    "\n",
    "For each part below, you'll notice there's a cell with one line of Python, starting with the word `raise`. **Delete this line**, and in its place, put the code that answers the prompt.\n",
    "\n",
    "Below that cell, you'll find another cell with multiple lines of Python, starting with `try:`. **DO NOT EDIT THIS CELL.** This is the autograder. For future reference, JupyterHub knows what the autograder code is before you download the assignment, so even if you edit the autograder so your code passes its tests, the edits will be removed when you submit the assignment. So you can't cheat that way :)\n",
    "\n",
    "**HINT:** Every time you fill in code to answer a question, you can immediately test that code by selecting the cell and pressing the \"Run Cell\" button in the menu (looks like a Play icon). After you run the cell with your code, repeat this process with the autograder cell(s) below it. Provided there aren't any errors, your code worked correctly! If there are errors, go back and edit your code and repeat this process."
   ]
  },
  {
   "cell_type": "markdown",
   "metadata": {
    "nbgrader": {
     "grade": false,
     "grade_id": "q2a_prompt",
     "locked": true,
     "schema_version": 1,
     "solution": false
    }
   },
   "source": [
    "### Part A\n",
    "\n",
    "Create a variable `x`, and *assign* it to have the value `3`."
   ]
  },
  {
   "cell_type": "code",
   "execution_count": null,
   "metadata": {
    "collapsed": true,
    "nbgrader": {
     "grade": false,
     "grade_id": "q2a",
     "locked": false,
     "schema_version": 1,
     "solution": true
    }
   },
   "outputs": [],
   "source": []
  },
  {
   "cell_type": "code",
   "execution_count": null,
   "metadata": {
    "collapsed": true,
    "nbgrader": {
     "grade": true,
     "grade_id": "q2a_test",
     "locked": true,
     "points": 10,
     "schema_version": 1,
     "solution": false
    }
   },
   "outputs": [],
   "source": [
    "assert x == 3"
   ]
  },
  {
   "cell_type": "markdown",
   "metadata": {
    "nbgrader": {
     "grade": false,
     "grade_id": "q2b_prompt",
     "locked": true,
     "schema_version": 1,
     "solution": false
    }
   },
   "source": [
    "### Part B\n",
    "\n",
    "Reset (or *re-assign*) the variable `x` to have the value `3.14159`."
   ]
  },
  {
   "cell_type": "code",
   "execution_count": null,
   "metadata": {
    "collapsed": true,
    "nbgrader": {
     "grade": false,
     "grade_id": "q2b",
     "locked": false,
     "schema_version": 1,
     "solution": true
    }
   },
   "outputs": [],
   "source": []
  },
  {
   "cell_type": "code",
   "execution_count": null,
   "metadata": {
    "collapsed": true,
    "nbgrader": {
     "grade": true,
     "grade_id": "q2b_test",
     "locked": true,
     "points": 10,
     "schema_version": 1,
     "solution": false
    }
   },
   "outputs": [],
   "source": [
    "assert x == 3.14159"
   ]
  },
  {
   "cell_type": "markdown",
   "metadata": {
    "nbgrader": {
     "grade": false,
     "grade_id": "q2c_prompt",
     "locked": true,
     "schema_version": 1,
     "solution": false
    }
   },
   "source": [
    "### Part C\n",
    "\n",
    "Create a new variable `y`, and assign it to have the value `10`."
   ]
  },
  {
   "cell_type": "code",
   "execution_count": null,
   "metadata": {
    "collapsed": true,
    "nbgrader": {
     "grade": false,
     "grade_id": "q2c",
     "locked": false,
     "schema_version": 1,
     "solution": true
    }
   },
   "outputs": [],
   "source": []
  },
  {
   "cell_type": "code",
   "execution_count": null,
   "metadata": {
    "collapsed": true,
    "nbgrader": {
     "grade": true,
     "grade_id": "q2c_test",
     "locked": true,
     "points": 10,
     "schema_version": 1,
     "solution": false
    }
   },
   "outputs": [],
   "source": [
    "assert y == 10"
   ]
  },
  {
   "cell_type": "markdown",
   "metadata": {
    "nbgrader": {
     "grade": false,
     "grade_id": "q2d_prompt",
     "locked": true,
     "schema_version": 1,
     "solution": false
    }
   },
   "source": [
    "### Part D\n",
    "\n",
    "Create a new variable `z`, and assign it to have the product of the variables `x` and `y`."
   ]
  },
  {
   "cell_type": "code",
   "execution_count": null,
   "metadata": {
    "collapsed": true,
    "nbgrader": {
     "grade": false,
     "grade_id": "q2d",
     "locked": false,
     "schema_version": 1,
     "solution": true
    }
   },
   "outputs": [],
   "source": []
  },
  {
   "cell_type": "code",
   "execution_count": null,
   "metadata": {
    "collapsed": true,
    "nbgrader": {
     "grade": true,
     "grade_id": "q2d_test",
     "locked": true,
     "points": 10,
     "schema_version": 1,
     "solution": false
    }
   },
   "outputs": [],
   "source": [
    "assert z == 31.4159"
   ]
  },
  {
   "cell_type": "markdown",
   "metadata": {
    "nbgrader": {
     "grade": false,
     "grade_id": "q2e_prompt",
     "locked": true,
     "schema_version": 1,
     "solution": false
    }
   },
   "source": [
    "### Part E\n",
    "\n",
    "Create a new variable `z_squared`, and assign it to have the value of `z` raised the power 2."
   ]
  },
  {
   "cell_type": "code",
   "execution_count": null,
   "metadata": {
    "collapsed": true,
    "nbgrader": {
     "grade": false,
     "grade_id": "q2e",
     "locked": false,
     "schema_version": 1,
     "solution": true
    }
   },
   "outputs": [],
   "source": []
  },
  {
   "cell_type": "code",
   "execution_count": null,
   "metadata": {
    "collapsed": true,
    "nbgrader": {
     "grade": true,
     "grade_id": "q2e_test",
     "locked": true,
     "points": 10,
     "schema_version": 1,
     "solution": false
    }
   },
   "outputs": [],
   "source": [
    "assert z_squared == 986.95877281"
   ]
  },
  {
   "cell_type": "markdown",
   "metadata": {
    "nbgrader": {
     "grade": false,
     "grade_id": "q2f_prompt",
     "locked": true,
     "schema_version": 1,
     "solution": false
    }
   },
   "source": [
    "### Part F\n",
    "\n",
    "With that done, all that's left is to submit your code. First, make sure you save your work (go to \"File\" and choose \"Save and Checkpoint\".\n",
    "\n",
    "Go back to the \"Assignments\" tab (\"File\" -> \"Close and Halt\", then click the \"Assignments\" tab). Notice that, in the \"Downloaded assignments\" tab, there's a little arrow next to \"A0\". Click it, and a drop-down will appear with a handy \"Validate\" button on the far right. This button is awesome--it runs all the autograder tests before you even submit! So you automatically know what [autograded] questions work, and which don't. Of course, there can (and will!) still be manually-graded questions, but it should give you a good idea how you're doing.\n",
    "\n",
    "Go ahead and click validate. Provided you followed the directions, you should see this popup:\n",
    "\n",
    "![successkid](http://cs.uga.edu/~squinn/courses/su16/csci1360e/assets/successkid.png)\n",
    "\n",
    "All tests passed, well done! All that's left is to send the assignment back to me so I can officially record your grade. Hit the blue \"Submit\" button on the right. Once it goes through, notice the timestamp that shows up:\n",
    "\n",
    "![timestamp](http://cs.uga.edu/~squinn/courses/su16/csci1360e/assets/timestamp.png)\n",
    "\n",
    "This is the server's officially-recorded time of completion for your assignment. You can submit as many times as you want! Only the last submission will ever be graded.\n",
    "\n",
    "**This step is crucial. If you don't submit, I will have no way of knowing that you completed your assignment.**\n",
    "\n",
    "### In the box below, tell me whether or not you were able to submit successfully (and get the timestamp confirmation)."
   ]
  },
  {
   "cell_type": "markdown",
   "metadata": {
    "nbgrader": {
     "grade": true,
     "grade_id": "q2f",
     "locked": false,
     "points": 5,
     "schema_version": 1,
     "solution": true
    }
   },
   "source": []
  }
 ],
 "metadata": {
  "celltoolbar": "Create Assignment",
  "kernelspec": {
   "display_name": "Python 3",
   "language": "python",
   "name": "python3"
  },
  "language_info": {
   "codemirror_mode": {
    "name": "ipython",
    "version": 3
   },
   "file_extension": ".py",
   "mimetype": "text/x-python",
   "name": "python",
   "nbconvert_exporter": "python",
   "pygments_lexer": "ipython3",
   "version": "3.6.6"
  },
  "schema_version": 1
 },
 "nbformat": 4,
 "nbformat_minor": 1
}
