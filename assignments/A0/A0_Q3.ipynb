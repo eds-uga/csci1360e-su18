{
 "cells": [
  {
   "cell_type": "markdown",
   "metadata": {
    "collapsed": true,
    "nbgrader": {
     "grade": false,
     "grade_id": "q3_prompt",
     "locked": true,
     "schema_version": 1,
     "solution": false
    }
   },
   "source": [
    "# Q3\n",
    "\n",
    "### THIS QUESTION IS OPTIONAL. You do not need to install Python on your machine! Please still fill out the question box below in A.\n",
    "\n",
    "To repeat: installing Python on your computer is *optional*. You are more than welcome to use JupyterHub for all your Python needs.\n",
    "\n",
    "But if you want, it's pretty easy to install Python. Important point: if you install Python on your machine, **do NOT install the version on python.org**. It's difficult to configure, and doesn't include any additional functionality that we'll be using in this class.\n",
    "\n",
    "Instead, we'll use a pre-made Python distribution: **Anaconda**. Anaconda is basically a fully-functional, prepackaged Python distribution that is ready-built for any of the three major operating systems: Windows, macOS, and Linux. Another benefit is that Anaconda is self-contained, so if you accidentally mess up the install, you can simply delete it and start over."
   ]
  },
  {
   "cell_type": "markdown",
   "metadata": {
    "nbgrader": {
     "grade": false,
     "grade_id": "q3a_prompt",
     "locked": true,
     "schema_version": 1,
     "solution": false
    }
   },
   "source": [
    "### Part A\n",
    "\n",
    "Go to the Anaconda downloads page: [https://www.anaconda.com/download/](https://www.anaconda.com/download/) . Click on the link for your operating system, and download the graphical installer (you'll most likely want 64-bit).\n",
    "\n",
    "**MAKE SURE YOU DOWNLOAD ANACONDA FOR PYTHON 3**.\n",
    "\n",
    "Once the install is finished, let's test that it worked: Fire up a command prompt / Terminal window. Type `python`.\n",
    "\n",
    "If all is well, you should see exactly what we saw in the JupyterHub terminal.\n",
    "\n",
    "![pythonshell](http://cs.uga.edu/~squinn/courses/su16/csci1360e/assets/pythonshell.png)\n",
    "\n",
    "### In the box below, inform me whether or not you were able to successfully complete A. If you did not attempt A, please mention that as well, and if you're comfortable with it, your reasons why."
   ]
  },
  {
   "cell_type": "markdown",
   "metadata": {
    "nbgrader": {
     "grade": true,
     "grade_id": "q3a",
     "locked": false,
     "points": 20,
     "schema_version": 1,
     "solution": true
    }
   },
   "source": []
  }
 ],
 "metadata": {
  "celltoolbar": "Create Assignment",
  "kernelspec": {
   "display_name": "Python 3",
   "language": "python",
   "name": "python3"
  },
  "language_info": {
   "codemirror_mode": {
    "name": "ipython",
    "version": 3
   },
   "file_extension": ".py",
   "mimetype": "text/x-python",
   "name": "python",
   "nbconvert_exporter": "python",
   "pygments_lexer": "ipython3",
   "version": "3.6.6"
  },
  "schema_version": 1
 },
 "nbformat": 4,
 "nbformat_minor": 1
}
