{
 "cells": [
  {
   "cell_type": "markdown",
   "metadata": {
    "nbgrader": {
     "grade": false,
     "grade_id": "q1_prompt",
     "locked": true,
     "schema_version": 1,
     "solution": false
    }
   },
   "source": [
    "# Question 1\n",
    "\n",
    "[Jupyter notebooks](http://jupyter.org/) are interactive web-based notebooks that can be viewed in multiple formats--HTML, PDF, even as lecture slides--and can also execute embedded code. In essence, they're an incredible instructional tool.\n",
    "\n",
    "JupyterHub is a multi-tenant platform on which users can interact with Jupyter notebooks. It's kind of like Google docs for programming, except everyone gets their own independent copy of the document (i.e., the homework assignment)."
   ]
  },
  {
   "cell_type": "markdown",
   "metadata": {
    "nbgrader": {
     "grade": false,
     "grade_id": "q1a_prompt",
     "locked": true,
     "schema_version": 1,
     "solution": false
    }
   },
   "source": [
    "### Part A\n",
    "\n",
    "Hopefully, if you've reached this assignment, it's because you managed to successfully log into JupyterHub. Congratulations, you've completed this part of the assignment!\n",
    "\n",
    "### In the box below, inform me of any problems you had logging into JupyterHub (or \"none\" if everything went a-ok)."
   ]
  },
  {
   "cell_type": "markdown",
   "metadata": {
    "nbgrader": {
     "grade": true,
     "grade_id": "q1a",
     "locked": false,
     "points": 7,
     "schema_version": 1,
     "solution": true
    }
   },
   "source": []
  },
  {
   "cell_type": "markdown",
   "metadata": {
    "nbgrader": {
     "grade": false,
     "grade_id": "q1b_prompt",
     "locked": true,
     "schema_version": 1,
     "solution": false
    }
   },
   "source": [
    "### Part B\n",
    "\n",
    "Let's change your password on JupyterHub to something more secure. To do this, we'll have to delve a little into the command line. I promise it'll be easy!\n",
    "\n",
    "On the far right-side of the main JupyterHub landing screen, click the dropdown menu that says \"New\", and select \"Terminal\". You should be directed to a screen that looks like this:\n",
    "\n",
    "![jupyterhubterminal](http://cs.uga.edu/~squinn/courses/su16/csci1360e/assets/jupyterhubterminal.png)\n",
    "\n",
    "This is a shell that runs on top of the core operating system. To change your password, we have to enter one simple command: `passwd`\n",
    "\n",
    "![passwd](http://cs.uga.edu/~squinn/courses/su16/csci1360e/assets/passwd.png)\n",
    "\n",
    "Press `Enter`. You'll be asked to type in your existing password (again, your MyID), then you'll be prompted to enter an entirely new password and confirm it.\n",
    "\n",
    "That's it! You should have a new password now. You can test it's working by clicking the \"Control Panel\" button in the top right corner, then \"Logout\". Try logging back in again, this time with your MyID and new password.\n",
    "\n",
    "**This has no bearing on your UGA MyID account.** It's a completely separate system. It just *happens* to use your MyID as your username, so you don't have to remember something different. If you want to set your password to be the same as your UGA MyID password, be my guest.\n",
    "\n",
    "### In the box below, inform me whether or not you were able to successfully complete B."
   ]
  },
  {
   "cell_type": "markdown",
   "metadata": {
    "nbgrader": {
     "grade": true,
     "grade_id": "q1b",
     "locked": false,
     "points": 6,
     "schema_version": 1,
     "solution": true
    }
   },
   "source": []
  },
  {
   "cell_type": "markdown",
   "metadata": {
    "nbgrader": {
     "grade": false,
     "grade_id": "q1c_prompt",
     "locked": true,
     "schema_version": 1,
     "solution": false
    }
   },
   "source": [
    "### Part C\n",
    "\n",
    "We interacted briefly with the operating system shell when we changed your JupyterHub password. We can also go into a Python shell. This is a really nice way of testing out code and immediately seeing results; a great tool for one-liners that you'd like some immediate feedback on.\n",
    "\n",
    "No coding just yet! This is just to show you how to access a Python environment, should you choose not to install Python on your local machine.\n",
    "\n",
    "Fire up an operating system Terminal again: from the main screen, go to the right-hand side, click the \"New\" dropdown, and select \"Terminal\".\n",
    "\n",
    "![jupyterhubterminal](http://cs.uga.edu/~squinn/courses/su16/csci1360e/assets/jupyterhubterminal.png)\n",
    "\n",
    "In the terminal, type \"python\". The Python shell should start, and you should see something like this:\n",
    "\n",
    "![pythonshell](http://cs.uga.edu/~squinn/courses/su16/csci1360e/assets/pythonshell.png)\n",
    "\n",
    "This is a Python environment! You can type and run Python code here, and it will be immediately executed and evaluated. We won't do any of that now; for now, just type `exit()` to drop out of the Python shell and back to the operating system.\n",
    "\n",
    "![exit](http://cs.uga.edu/~squinn/courses/su16/csci1360e/assets/exit.png)\n",
    "\n",
    "### In the box below, inform me whether or not you were able to successfully complete C."
   ]
  },
  {
   "cell_type": "markdown",
   "metadata": {
    "nbgrader": {
     "grade": true,
     "grade_id": "q1c",
     "locked": false,
     "points": 6,
     "schema_version": 1,
     "solution": true
    }
   },
   "source": []
  },
  {
   "cell_type": "markdown",
   "metadata": {
    "nbgrader": {
     "grade": false,
     "grade_id": "q1d_prompt",
     "locked": true,
     "schema_version": 1,
     "solution": false
    }
   },
   "source": [
    "### Part D\n",
    "\n",
    "You can create entirely new Jupyter notebooks while in JupyterHub. This is one possible way you can test out Python code without actually installing Python on your local machine. Of coures, it requires an internet connection.\n",
    "\n",
    "It's easy enough: go to the \"New\" dropdown at the far right, and select \"Python 3\".\n",
    "\n",
    "That's it! A new notebook should spin up using a Python kernel. Don't worry yet about doing any coding, but so you know how it works: all the code goes in cells. You can add new cells using the \"+\" button on left side of the menubar.  \n",
    "\n",
    "![play](http://cs.uga.edu/~squinn/courses/su16/csci1360e/assets/play.png)\n",
    "\n",
    "You can shuffle existing cells around using the up and down arrows in the same menu. After you've made changes to a cell, you can execute and run it and see its output. To do this, make sure it's active, and click the button that looks like a \"Play\" button in the top menu bar (near the middle).\n",
    "\n",
    "### In the box below, inform me whether or not you were able to successfully complete D."
   ]
  },
  {
   "cell_type": "markdown",
   "metadata": {
    "nbgrader": {
     "grade": true,
     "grade_id": "q1d",
     "locked": false,
     "points": 6,
     "schema_version": 1,
     "solution": true
    }
   },
   "source": []
  }
 ],
 "metadata": {
  "celltoolbar": "Create Assignment",
  "kernelspec": {
   "display_name": "Python 3",
   "language": "python",
   "name": "python3"
  },
  "language_info": {
   "codemirror_mode": {
    "name": "ipython",
    "version": 3
   },
   "file_extension": ".py",
   "mimetype": "text/x-python",
   "name": "python",
   "nbconvert_exporter": "python",
   "pygments_lexer": "ipython3",
   "version": "3.6.6"
  },
  "schema_version": 1
 },
 "nbformat": 4,
 "nbformat_minor": 1
}
