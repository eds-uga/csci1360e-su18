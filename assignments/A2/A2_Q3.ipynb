{
 "cells": [
  {
   "cell_type": "markdown",
   "metadata": {
    "nbgrader": {
     "grade": false,
     "grade_id": "q3_prompt",
     "locked": true,
     "schema_version": 1,
     "solution": false
    }
   },
   "source": [
    "# Question 3\n",
    "\n",
    "In this question, you'll be doing some error handling using `try/except` statements."
   ]
  },
  {
   "cell_type": "markdown",
   "metadata": {
    "nbgrader": {
     "grade": false,
     "grade_id": "q3a_prompt",
     "locked": true,
     "schema_version": 1,
     "solution": false
    }
   },
   "source": [
    "### Part A\n",
    "\n",
    "In this question, you'll fill out the code to perform safe division. This means that, in the case of a division-by-zero, you catch the error before it crashes the program, and instead return 0.\n",
    "\n",
    "`a` and `b` are variables that store the divisor and dividend, respectively. **You CANNOT use conditionals**; instead, you need to use a `try/except` block to gracefully catch any errors resulting from a division by zero.\n",
    "\n",
    "Assign the final value to the variable `quotient`.\n",
    "\n",
    "**Hint**: the error you'll want to catch is `ZeroDivisionError`.\n",
    "\n",
    "**No imports allowed!**"
   ]
  },
  {
   "cell_type": "code",
   "execution_count": null,
   "metadata": {
    "nbgrader": {
     "grade": false,
     "grade_id": "q3a",
     "locked": false,
     "schema_version": 1,
     "solution": true
    }
   },
   "outputs": [],
   "source": [
    "def safe_divide(a, b):\n",
    "    quotient = 0\n",
    "\n",
    "    ### BEGIN SOLUTION\n",
    "    \n",
    "    ### END SOLUTION\n",
    "    \n",
    "    return quotient"
   ]
  },
  {
   "cell_type": "code",
   "execution_count": null,
   "metadata": {
    "nbgrader": {
     "grade": true,
     "grade_id": "q3a_test1",
     "locked": true,
     "points": 5,
     "schema_version": 1,
     "solution": false
    }
   },
   "outputs": [],
   "source": [
    "a1 = 10\n",
    "b1 = 5\n",
    "q1 = 2.0\n",
    "assert q1 == safe_divide(a1, b1)"
   ]
  },
  {
   "cell_type": "code",
   "execution_count": null,
   "metadata": {
    "nbgrader": {
     "grade": true,
     "grade_id": "q3a_test2",
     "locked": true,
     "points": 10,
     "schema_version": 1,
     "solution": false
    }
   },
   "outputs": [],
   "source": [
    "a2 = 10\n",
    "b2 = 0\n",
    "q2 = 0.0\n",
    "assert q2 == safe_divide(a2, b2)"
   ]
  },
  {
   "cell_type": "markdown",
   "metadata": {
    "nbgrader": {
     "grade": false,
     "grade_id": "q3b_prompt",
     "locked": true,
     "schema_version": 1,
     "solution": false
    }
   },
   "source": [
    "### Part B\n",
    "\n",
    "In this question, you need to write code that calls the `magic()` function, and returns whatever value `magic` hands back. **Be warned!** This strange `magic` function is prone to crashing and throwing errors, so you'll need to use sufficient `try/except` wizardry to make sure it doesn't bring your program down, too!\n",
    "\n",
    "In the code below, add a `try/except` block where you call `magic()` and assign it to the variable `retval`. If it doesn't throw an error, just return `retval`. If it *does* throw an error, catch it gracefully, and then assign `-1` to `retval`.\n",
    "\n",
    "**No imports allowed!**"
   ]
  },
  {
   "cell_type": "code",
   "execution_count": null,
   "metadata": {
    "nbgrader": {
     "grade": false,
     "grade_id": "q3b",
     "locked": false,
     "schema_version": 1,
     "solution": true
    }
   },
   "outputs": [],
   "source": [
    "def do_you_believe_in_magic():\n",
    "    retval = -1\n",
    "    \n",
    "    ### BEGIN SOLUTION\n",
    "    \n",
    "    ### END SOLUTION\n",
    "    \n",
    "    return retval"
   ]
  },
  {
   "cell_type": "code",
   "execution_count": null,
   "metadata": {
    "nbgrader": {
     "grade": true,
     "grade_id": "q3b_test1",
     "locked": true,
     "points": 5,
     "schema_version": 1,
     "solution": false
    }
   },
   "outputs": [],
   "source": [
    "import numpy as np\n",
    "np.random.seed(91375)\n",
    "\n",
    "def magic():\n",
    "    i = np.random.randint(100)\n",
    "    if i > 50:\n",
    "        return i >> 2\n",
    "    else:\n",
    "        raise ValueError(\"Something bad happened!\")\n",
    "        \n",
    "i1 = do_you_believe_in_magic()\n",
    "assert i1 == 14"
   ]
  },
  {
   "cell_type": "code",
   "execution_count": null,
   "metadata": {
    "nbgrader": {
     "grade": true,
     "grade_id": "q3b_test2",
     "locked": true,
     "points": 10,
     "schema_version": 1,
     "solution": false
    }
   },
   "outputs": [],
   "source": [
    "np.random.seed(3851)\n",
    "\n",
    "i2 = do_you_believe_in_magic()\n",
    "assert i2 == -1\n",
    "\n",
    "### BEGIN HIDDEN TESTS\n",
    "i3 = do_you_believe_in_magic()\n",
    "assert i3 == 24\n",
    "### END HIDDEN TESTS"
   ]
  }
 ],
 "metadata": {
  "anaconda-cloud": {},
  "celltoolbar": "Create Assignment",
  "kernelspec": {
   "display_name": "Python 3",
   "language": "python",
   "name": "python3"
  },
  "language_info": {
   "codemirror_mode": {
    "name": "ipython",
    "version": 3
   },
   "file_extension": ".py",
   "mimetype": "text/x-python",
   "name": "python",
   "nbconvert_exporter": "python",
   "pygments_lexer": "ipython3",
   "version": "3.6.5"
  }
 },
 "nbformat": 4,
 "nbformat_minor": 1
}
