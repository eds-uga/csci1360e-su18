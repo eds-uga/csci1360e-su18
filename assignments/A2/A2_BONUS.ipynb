{
 "cells": [
  {
   "cell_type": "markdown",
   "metadata": {
    "nbgrader": {
     "grade": false,
     "grade_id": "qbonus_prompt",
     "locked": true,
     "schema_version": 1,
     "solution": false
    }
   },
   "source": [
    "# BONUS\n",
    "\n",
    "In these questions, we'll look at some more complex looping examples."
   ]
  },
  {
   "cell_type": "markdown",
   "metadata": {
    "nbgrader": {
     "grade": false,
     "grade_id": "qbonusa_prompt",
     "locked": true,
     "schema_version": 1,
     "solution": false
    }
   },
   "source": [
    "### Part A\n",
    "\n",
    "Sometimes, one loop over a list of numbers isn't enough. Sometimes you have to a level deeper (*inception BWAAAAA*).\n",
    "\n",
    "In the function below, write code to create a list of *tuples* (yes; each element of the list is itself a tuple) that represents all possible *pairs of elements* of the original input list.\n",
    "\n",
    "(for those of you interested in set theory: this is known as a [power set](https://en.wikipedia.org/wiki/Power_set))\n",
    "\n",
    "For example, let's say the input list is `[1, 2, 3]`. A pair of numbers from this list would be `(1, 2)`. Another would be `(1, 3)`. However, `(3, 1)` would NOT be a valid pairing, because it is not unique: it's just a transpose of the `(1, 3)` we've already seen.\n",
    "\n",
    "The *power set*, then, would be *all possible unique pairs of numbers* from this one list.\n",
    "\n",
    "That's what the code you write below needs to do: compute the power set of the input list. To complete the example, the power set of `[1, 2, 3]` would be `[(1, 2), (1, 3), (2, 3)]`. Note that the output list itself has three elements, and each individual element is a *tuple* of two elements.\n",
    "\n",
    "Back to loops: the easiest way to generate a power set is to use **nested `for` loops**. This means you'll have an outer loop, and inside that you'll have *another* loop. The outer loop is essentially responsible for one of the elements in each tuple, while the inner loop fixes the other element of each tuple.\n",
    "\n",
    "A couple of restrictions:\n",
    "\n",
    " - Your power set cannot contain self-pairings. Note in the example that 1 is not paired with 1, 2 is not paired with 2, etc. However, if 1 appeared multiple times, then those 1s should be paired. This is simply to say the element at a certain position should not be paired *with itself*.\n",
    " - You cannot use external Python libraries (because `itertools.combinations()` does *this exact thing*--definitely take a look at it once you've finished! but you can't use it).\n",
    "\n",
    "Put your answer in the `list_of_pairs` variable."
   ]
  },
  {
   "cell_type": "code",
   "execution_count": null,
   "metadata": {
    "collapsed": true,
    "nbgrader": {
     "grade": false,
     "grade_id": "qbonusa",
     "locked": false,
     "schema_version": 1,
     "solution": true
    }
   },
   "outputs": [],
   "source": [
    "def my_pairs(x):\n",
    "    list_of_pairs = []\n",
    "    \n",
    "    ### BEGIN SOLUTION\n",
    "    \n",
    "    ### END SOLUTION\n",
    "    \n",
    "    return list_of_pairs"
   ]
  },
  {
   "cell_type": "code",
   "execution_count": null,
   "metadata": {
    "collapsed": true,
    "nbgrader": {
     "grade": true,
     "grade_id": "qbonusa_test1",
     "locked": true,
     "points": 1,
     "schema_version": 1,
     "solution": false
    }
   },
   "outputs": [],
   "source": [
    "try:\n",
    "    itertools.combinations\n",
    "except:\n",
    "    assert True\n",
    "else:\n",
    "    assert False"
   ]
  },
  {
   "cell_type": "code",
   "execution_count": null,
   "metadata": {
    "collapsed": true,
    "nbgrader": {
     "grade": true,
     "grade_id": "qbonusa_test2",
     "locked": true,
     "points": 15,
     "schema_version": 1,
     "solution": false
    }
   },
   "outputs": [],
   "source": [
    "from itertools import combinations as c\n",
    "\n",
    "i1 = [1, 2, 3]\n",
    "a1 = set(list(c(i1, 2)))\n",
    "assert a1 == set(my_pairs(i1))"
   ]
  },
  {
   "cell_type": "code",
   "execution_count": null,
   "metadata": {
    "collapsed": true,
    "nbgrader": {
     "grade": true,
     "grade_id": "qbonusa_test3",
     "locked": true,
     "points": 4,
     "schema_version": 1,
     "solution": false
    }
   },
   "outputs": [],
   "source": [
    "i2 = [8934, 123, 23, 1, 6, 8, 553, 8, 98.345, 354, 876796.5, 34]\n",
    "a2 = set(list(c(i2, 2)))\n",
    "assert a2 == set(my_pairs(i2))"
   ]
  },
  {
   "cell_type": "markdown",
   "metadata": {
    "nbgrader": {
     "grade": false,
     "grade_id": "qbonusb_prompt",
     "locked": true,
     "schema_version": 1,
     "solution": false
    }
   },
   "source": [
    "### Part B\n",
    "\n",
    "For better or worse, linear algebra is a huge component of data science. We'll cover it in a bit more detail after the midterm, but some of the basic data structures involved in linear algebra make for really good questions on writing loops. So we'll take a first look at a *matrix* data structure!\n",
    "\n",
    "You can think of a matrix like a list, where each element of the list is itself another list. Basically it's a rectangular, two-dimensional list--an Excel spreadsheet is a matrix in practice. There are rows and columns, and that's pretty much all you need for it to be a matrix.\n",
    "\n",
    "Representing a matrix in code is another matter. There are plenty of ways of doing it, and here we'll look at one of the more rudimentary methods (I would never, ever, recommend doing it this way in practice, but it makes for a great exercise! bua ha ha...or something).\n",
    "\n",
    "Here, you'll work with a matrix that is literally a list of lists. As in, you have a list, and each element is itself a list. Your goal is to convert each element of the outer list into a *tuple*:\n",
    "\n",
    " - The 2nd element of the tuple is the list that's already at that position\n",
    " - The 1st element of the tuple, however, is the *index* or *position* in the current outer list\n",
    " \n",
    "Basically, you're converting each row of the matrix into a tuple, where the first element is the actual row number, and the second element is the row itself.\n",
    "\n",
    "For example, here is a 2-rows-by-3-columns matrix:\n",
    "\n",
    "```\n",
    "x = [ [1, 2, 3], [4, 5, 6] ]\n",
    "```\n",
    "\n",
    "The first row is `[1, 2, 3]`, the second row is `[4, 5, 6]`.\n",
    "\n",
    "Your job would be to modify this matrix so each element of the outer list becomes a tuple:\n",
    "\n",
    "```\n",
    "y = [ (0, [1, 2, 3]), (1, [4, 5, 6]) ]\n",
    "```\n",
    "\n",
    "Now, the first element of `y` (`y[0]`) is a tuple: `(0, [1, 2, 3])`. This tuple has two elements: `y[0][0]` is the row number (in this case, 0), and `y[0][1]` is the actual row, which is `[1, 2, 3]`. The second element of `y` (`y[1]`) is also a tuple of two elements: `(1, [4, 5, 6])`. The first element of this tuple, `y[1][0]`, is the row number (in this case, 1), and the second element (`y[1][1]`) is the row itself: `[4, 5, 6]`.\n",
    "\n",
    "Put your answer in the `tuple_matrix` variable."
   ]
  },
  {
   "cell_type": "code",
   "execution_count": null,
   "metadata": {
    "collapsed": true,
    "nbgrader": {
     "grade": false,
     "grade_id": "qbonusb",
     "locked": false,
     "schema_version": 1,
     "solution": true
    }
   },
   "outputs": [],
   "source": [
    "def add_row_ids(matrix):\n",
    "    tuple_matrix = []\n",
    "    \n",
    "    ### BEGIN SOLUTION\n",
    "    \n",
    "    ### END SOLUTION\n",
    "    \n",
    "    return tuple_matrix"
   ]
  },
  {
   "cell_type": "code",
   "execution_count": null,
   "metadata": {
    "collapsed": true,
    "nbgrader": {
     "grade": true,
     "grade_id": "qbonusb_test1",
     "locked": true,
     "points": 10,
     "schema_version": 1,
     "solution": false
    }
   },
   "outputs": [],
   "source": [
    "i1 = [ [1, 2, 3], [4, 5, 6] ]\n",
    "a1 = set((1, (4, 5, 6)))\n",
    "i, t = add_row_ids(i1)[1]\n",
    "assert a1 == set((i, tuple(t)))"
   ]
  },
  {
   "cell_type": "code",
   "execution_count": null,
   "metadata": {
    "collapsed": true,
    "nbgrader": {
     "grade": true,
     "grade_id": "qbonusb_test2",
     "locked": true,
     "points": 10,
     "schema_version": 1,
     "solution": false
    }
   },
   "outputs": [],
   "source": [
    "i2 = [ [1, 2], [2, 3], [4, 5], [6, 7], [8, 9] ]\n",
    "a2 = set((4, (8, 9)))\n",
    "i, t = add_row_ids(i2)[4]\n",
    "assert a2 == set((i, tuple(t)))"
   ]
  }
 ],
 "metadata": {
  "anaconda-cloud": {},
  "celltoolbar": "Create Assignment",
  "kernelspec": {
   "display_name": "Python 3",
   "language": "python",
   "name": "python3"
  },
  "language_info": {
   "codemirror_mode": {
    "name": "ipython",
    "version": 3
   },
   "file_extension": ".py",
   "mimetype": "text/x-python",
   "name": "python",
   "nbconvert_exporter": "python",
   "pygments_lexer": "ipython3",
   "version": "3.5.3"
  }
 },
 "nbformat": 4,
 "nbformat_minor": 1
}
