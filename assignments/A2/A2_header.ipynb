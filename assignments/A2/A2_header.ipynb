{
 "cells": [
  {
   "cell_type": "markdown",
   "metadata": {
    "collapsed": true,
    "nbgrader": {
     "grade": false,
     "grade_id": "a2_intro",
     "locked": true,
     "schema_version": 1,
     "solution": false
    }
   },
   "source": [
    "# Assignment 2\n",
    "CSCI 1360E: Foundations for Informatics and Analytics\n",
    "\n",
    "## Important Dates\n",
    "\n",
    " - Released: 2018-06-14 at 12am [EDT](http://www.timeanddate.com/worldclock/usa/athens)\n",
    " - Deadline: 2018-06-18 at 11:59:59pm [EDT](http://www.timeanddate.com/worldclock/usa/athens)\n",
    "\n",
    "## Grading Breakdown\n",
    "\n",
    " - Q1: 40pts\n",
    " - Q2: 30pts\n",
    " - Q3: 30pts\n",
    " \n",
    "Total: 100pts\n",
    "\n",
    " - BONUS, Part A: 20pts\n",
    " - BONUS, Part B: 20pts\n",
    "\n",
    "## Overview\n",
    "\n",
    "This assignment will familiarize you with the built-in Python data structures, looping, conditionals, and exceptions.\n",
    "\n",
    "Remember in your code to delete (or comment out) any lines that say `raise NotImplementedError()` and replace it with your own code."
   ]
  }
 ],
 "metadata": {
  "anaconda-cloud": {},
  "celltoolbar": "Create Assignment",
  "kernelspec": {
   "display_name": "Python 3",
   "language": "python",
   "name": "python3"
  },
  "language_info": {
   "codemirror_mode": {
    "name": "ipython",
    "version": 3
   },
   "file_extension": ".py",
   "mimetype": "text/x-python",
   "name": "python",
   "nbconvert_exporter": "python",
   "pygments_lexer": "ipython3",
   "version": "3.6.5"
  }
 },
 "nbformat": 4,
 "nbformat_minor": 1
}
