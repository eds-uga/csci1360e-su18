{
 "cells": [
  {
   "cell_type": "markdown",
   "metadata": {
    "nbgrader": {
     "grade": false,
     "grade_id": "q1_prompt",
     "locked": true,
     "schema_version": 1,
     "solution": false
    }
   },
   "source": [
    "# Question 1\n",
    "\n",
    "This question will focus entirely on NumPy arrays: vectorized programming, slicing, and broadcasting."
   ]
  },
  {
   "cell_type": "markdown",
   "metadata": {
    "nbgrader": {
     "grade": false,
     "grade_id": "q1a_prompt",
     "locked": true,
     "schema_version": 1,
     "solution": false
    }
   },
   "source": [
    "### Part A\n",
    "\n",
    "In this question, you'll implement the vector dot product.\n",
    "\n",
    "Write a function which:\n",
    "\n",
    " - is named `dot`\n",
    " - takes two NumPy arrays as arguments\n",
    " - returns one number: the floating-point dot product of the two input vectors\n",
    "\n",
    "Recall how a [dot product](https://en.wikipedia.org/wiki/Dot_product) works: corresponding elements of two arrays are multiplied together, then all these products are summed.\n",
    "\n",
    "For example: if I have two NumPy arrays `[1, 2, 3]` and `[4, 5, 6]`, their dot product would be `(1*4) + (2*5) + (3*6)`, or `4 + 10 + 18`, or 32.\n",
    "\n",
    "You can use NumPy arrays, and the `np.sum()` function, but no other NumPy functions. Also, **no loops are allowed!** This has to be done using *vectorized* computation."
   ]
  },
  {
   "cell_type": "code",
   "execution_count": null,
   "metadata": {
    "nbgrader": {
     "grade": false,
     "grade_id": "q1a",
     "locked": false,
     "schema_version": 1,
     "solution": true
    }
   },
   "outputs": [],
   "source": []
  },
  {
   "cell_type": "code",
   "execution_count": null,
   "metadata": {
    "nbgrader": {
     "grade": true,
     "grade_id": "q1a_test1",
     "locked": true,
     "points": 5,
     "schema_version": 1,
     "solution": false
    }
   },
   "outputs": [],
   "source": [
    "import numpy as np\n",
    "np.random.seed(57442)\n",
    "\n",
    "x1 = np.random.random(10)\n",
    "x2 = np.random.random(10)\n",
    "np.testing.assert_allclose(x1.dot(x2), dot(x1, x2), rtol = 1e-5)"
   ]
  },
  {
   "cell_type": "code",
   "execution_count": null,
   "metadata": {
    "nbgrader": {
     "grade": true,
     "grade_id": "q1a_test2",
     "locked": true,
     "points": 5,
     "schema_version": 1,
     "solution": false
    }
   },
   "outputs": [],
   "source": [
    "np.random.seed(495835)\n",
    "\n",
    "x1 = np.random.random(100)\n",
    "x2 = np.random.random(100)\n",
    "np.testing.assert_allclose(x1.dot(x2), dot(x1, x2), rtol = 1e-5)"
   ]
  },
  {
   "cell_type": "markdown",
   "metadata": {
    "nbgrader": {
     "grade": false,
     "grade_id": "q1b_prompt",
     "locked": true,
     "schema_version": 1,
     "solution": false
    }
   },
   "source": [
    "### Part B\n",
    "\n",
    "Write a function which:\n",
    "\n",
    " - is named `less_than`\n",
    " - takes two arguments: a NumPy array, and a floating-point number\n",
    " - returns a NumPy array\n",
    " \n",
    "You should use a boolean mask to return only the values in the NumPy array that are less than the specified floating-point value (the second parameter). No loops are allowed, or any built-in functions or loops.\n",
    "\n",
    "For example, `less_than([1, 2, 3], 2.5)` should return a NumPy array of `[1, 2]`."
   ]
  },
  {
   "cell_type": "code",
   "execution_count": null,
   "metadata": {
    "nbgrader": {
     "grade": false,
     "grade_id": "q1b",
     "locked": false,
     "schema_version": 1,
     "solution": true
    }
   },
   "outputs": [],
   "source": []
  },
  {
   "cell_type": "code",
   "execution_count": null,
   "metadata": {
    "nbgrader": {
     "grade": true,
     "grade_id": "q1b_test1",
     "locked": true,
     "points": 5,
     "schema_version": 1,
     "solution": false
    }
   },
   "outputs": [],
   "source": [
    "import numpy as np\n",
    "np.random.seed(85928)\n",
    "\n",
    "x = np.random.random((10, 20, 30))\n",
    "t = 0.001\n",
    "y = np.array([ 0.0005339 ,  0.00085714,  0.00091265,  0.00037283])\n",
    "np.testing.assert_allclose(y, less_than(x, t), rtol = 1e-5)"
   ]
  },
  {
   "cell_type": "code",
   "execution_count": null,
   "metadata": {
    "nbgrader": {
     "grade": true,
     "grade_id": "q1b_test2",
     "locked": true,
     "points": 5,
     "schema_version": 1,
     "solution": false
    }
   },
   "outputs": [],
   "source": [
    "np.random.seed(8643)\n",
    "\n",
    "x2 = np.random.random((100, 100, 10))\n",
    "t2 = 0.0001\n",
    "y2 = np.array([  2.91560413e-06,   6.80065620e-06,   3.63294064e-05,\n",
    "         7.50659065e-05,   1.61602031e-06,   9.37205052e-05])\n",
    "np.testing.assert_allclose(y2, less_than(x2, t2), rtol = 1e-05)"
   ]
  },
  {
   "cell_type": "markdown",
   "metadata": {
    "nbgrader": {
     "grade": false,
     "grade_id": "q1c_prompt",
     "locked": true,
     "schema_version": 1,
     "solution": false
    }
   },
   "source": [
    "### Part C\n",
    "\n",
    "Write a function which:\n",
    "\n",
    " - is named `greater_than`\n",
    " - takes two arguments: a NumPy array, and a threshold number (float)\n",
    " - returns a NumPy array\n",
    " \n",
    "You should use a boolean mask to return only the values in the NumPy array that are greater than the specified `threshold` value (the second parameter). No loops are allowed, or built-in functions, or NumPy functions.\n",
    "\n",
    "For example, `greater_than([1, 2, 3], 2.5)` should return a NumPy array of `[3]`."
   ]
  },
  {
   "cell_type": "code",
   "execution_count": null,
   "metadata": {
    "nbgrader": {
     "grade": false,
     "grade_id": "q1c",
     "locked": false,
     "schema_version": 1,
     "solution": true
    }
   },
   "outputs": [],
   "source": []
  },
  {
   "cell_type": "code",
   "execution_count": null,
   "metadata": {
    "nbgrader": {
     "grade": true,
     "grade_id": "q1c_test1",
     "locked": true,
     "points": 5,
     "schema_version": 1,
     "solution": false
    }
   },
   "outputs": [],
   "source": [
    "import numpy as np\n",
    "np.random.seed(592582)\n",
    "\n",
    "x = np.random.random((10, 20, 30))\n",
    "t = 0.999\n",
    "y = np.array([ 0.99910167,  0.99982779,  0.99982253,  0.9991043 ])\n",
    "np.testing.assert_allclose(y, greater_than(x, t), rtol = 1e-5)"
   ]
  },
  {
   "cell_type": "code",
   "execution_count": null,
   "metadata": {
    "nbgrader": {
     "grade": true,
     "grade_id": "q1c_test2",
     "locked": true,
     "points": 5,
     "schema_version": 1,
     "solution": false
    }
   },
   "outputs": [],
   "source": [
    "np.random.seed(689388)\n",
    "\n",
    "x2 = np.random.random((100, 100, 10))\n",
    "t2 = 0.9999\n",
    "y2 = np.array([ 0.99997265,  0.99991169,  0.99998906,  0.99999012,  0.99992325,\n",
    "        0.99993289,  0.99996637,  0.99996416,  0.99992627,  0.99994388,\n",
    "        0.99993102,  0.99997486,  0.99992968,  0.99997598])\n",
    "np.testing.assert_allclose(y2, greater_than(x2, t2), rtol = 1e-05)"
   ]
  },
  {
   "cell_type": "markdown",
   "metadata": {
    "nbgrader": {
     "grade": false,
     "grade_id": "q1d_prompt",
     "locked": true,
     "schema_version": 1,
     "solution": false
    }
   },
   "source": [
    "### Part D\n",
    "\n",
    "Write a function which:\n",
    "\n",
    " - is named `in_between`\n",
    " - takes three parameters: a NumPy array, a lower threshold (float), and an upper threshold (float)\n",
    " - returns a NumPy array\n",
    " \n",
    "You should use a boolean mask to return only the values in the NumPy array that are *in between* the two specified threshold values, `lower` and `upper`. No loops are allowed, or built-in functions, or NumPy functions.\n",
    "\n",
    "For example, `in_between([1, 2, 3], 1, 3)` should return a NumPy array of `[2]`.\n",
    "\n",
    "Hint: you can use your functions from Parts C and D to help!"
   ]
  },
  {
   "cell_type": "code",
   "execution_count": null,
   "metadata": {
    "nbgrader": {
     "grade": false,
     "grade_id": "q1d",
     "locked": false,
     "schema_version": 1,
     "solution": true
    }
   },
   "outputs": [],
   "source": []
  },
  {
   "cell_type": "code",
   "execution_count": null,
   "metadata": {
    "nbgrader": {
     "grade": true,
     "grade_id": "q1d_test1",
     "locked": true,
     "points": 5,
     "schema_version": 1,
     "solution": false
    }
   },
   "outputs": [],
   "source": [
    "import numpy as np\n",
    "np.random.seed(7472)\n",
    "\n",
    "x = np.random.random((10, 20, 30))\n",
    "lo = 0.499\n",
    "hi = 0.501\n",
    "y = np.array([ 0.50019884,  0.50039172,  0.500711  ,  0.49983418,  0.49942259,\n",
    "        0.4994417 ,  0.49979261,  0.50029046,  0.5008376 ,  0.49985266,\n",
    "        0.50015914,  0.50068227,  0.50060399,  0.49968918,  0.50091042,\n",
    "        0.50063015,  0.50050032])\n",
    "np.testing.assert_allclose(y, in_between(x, lo, hi), rtol = 1e-6)"
   ]
  },
  {
   "cell_type": "code",
   "execution_count": null,
   "metadata": {
    "nbgrader": {
     "grade": true,
     "grade_id": "q1d_test2",
     "locked": true,
     "points": 5,
     "schema_version": 1,
     "solution": false
    }
   },
   "outputs": [],
   "source": [
    "import numpy as np\n",
    "np.random.seed(14985)\n",
    "\n",
    "x = np.random.random((30, 40, 50))\n",
    "lo = 0.49999\n",
    "hi = 0.50001\n",
    "y = np.array([ 0.50000714,  0.49999045])\n",
    "np.testing.assert_allclose(y, in_between(x, lo, hi), rtol = 1e-6)"
   ]
  },
  {
   "cell_type": "markdown",
   "metadata": {
    "nbgrader": {
     "grade": false,
     "grade_id": "q1e_prompt",
     "locked": true,
     "schema_version": 1,
     "solution": false
    }
   },
   "source": [
    "### Part E\n",
    "\n",
    "Write a function which:\n",
    "\n",
    " - is named `not_in_between`\n",
    " - takes three parameters: a NumPy array, a lower threshold (float), and an upper threshold (float)\n",
    " - returns a NumPy array\n",
    " \n",
    "You should use a boolean mask to return only the values in the NumPy array that are *NOT in between* the two specified threshold values, `lower` and `upper`. No loops are allowed, or built-in functions, or NumPy functions.\n",
    "\n",
    "For example, `not_in_between([1, 2, 3, 4], 1, 3)` should return a NumPy array of `[4]`.\n",
    "\n",
    "Hint: you can use your functions from Parts C and D to help!"
   ]
  },
  {
   "cell_type": "code",
   "execution_count": null,
   "metadata": {
    "nbgrader": {
     "grade": false,
     "grade_id": "q1e",
     "locked": false,
     "schema_version": 1,
     "solution": true
    }
   },
   "outputs": [],
   "source": []
  },
  {
   "cell_type": "code",
   "execution_count": null,
   "metadata": {
    "nbgrader": {
     "grade": true,
     "grade_id": "q1e_test1",
     "locked": true,
     "points": 5,
     "schema_version": 1,
     "solution": false
    }
   },
   "outputs": [],
   "source": [
    "import numpy as np\n",
    "np.random.seed(475185)\n",
    "\n",
    "x = np.random.random((10, 20, 30))\n",
    "lo = 0.001\n",
    "hi = 0.999\n",
    "y = np.array([  9.52511605e-04,   8.62993716e-04,   3.70243252e-04,\n",
    "         9.99945849e-01,   7.21751759e-04,   9.36931041e-04,\n",
    "         5.10792605e-04,   6.44911672e-04])\n",
    "np.testing.assert_allclose(y, not_in_between(x, lo, hi), rtol = 1e-6)"
   ]
  },
  {
   "cell_type": "code",
   "execution_count": null,
   "metadata": {
    "nbgrader": {
     "grade": true,
     "grade_id": "q1e_test2",
     "locked": true,
     "points": 5,
     "schema_version": 1,
     "solution": false
    }
   },
   "outputs": [],
   "source": [
    "np.random.seed(51954)\n",
    "\n",
    "x = np.random.random((30, 40, 50))\n",
    "lo = 0.00001\n",
    "hi = 0.99999\n",
    "y = np.array([  8.46159001e-06,   9.99998669e-01,   9.99993873e-01,\n",
    "         5.58488698e-06,   9.99993348e-01])\n",
    "np.testing.assert_allclose(y, not_in_between(x, lo, hi), rtol = 1e-6)"
   ]
  },
  {
   "cell_type": "markdown",
   "metadata": {
    "nbgrader": {
     "grade": false,
     "grade_id": "q1f_prompt",
     "locked": true,
     "schema_version": 1,
     "solution": false
    }
   },
   "source": [
    "### Part F\n",
    "\n",
    "Write a function which:\n",
    "\n",
    " - is named `reverse_array`\n",
    " - takes 1 parameter: a 1D NumPy array of data\n",
    " - returns the 1D NumPy array, reversed\n",
    "\n",
    "This function uses fancy indexing to reverse the ordering of the elements in the input array, and returns the reversed array. You *cannot* use the `[::-1]` notation, nor the built-in `reversed` method, or any other Python function or loops. You **can** use the `list()`, `range()`, and `np.arange()` functions, however, and only some or all of those (but again, no loops!).\n",
    "\n",
    "Hint: Construct a list of indices and use NumPy fancy indexing to reverse the ordering of the elements in the input list, then return the reversed array."
   ]
  },
  {
   "cell_type": "code",
   "execution_count": null,
   "metadata": {
    "nbgrader": {
     "grade": false,
     "grade_id": "q1f",
     "locked": false,
     "schema_version": 1,
     "solution": true
    }
   },
   "outputs": [],
   "source": []
  },
  {
   "cell_type": "code",
   "execution_count": null,
   "metadata": {
    "nbgrader": {
     "grade": true,
     "grade_id": "q1f_test1",
     "locked": true,
     "points": 5,
     "schema_version": 1,
     "solution": false
    }
   },
   "outputs": [],
   "source": [
    "import numpy as np\n",
    "np.random.seed(5748)\n",
    "\n",
    "x1 = np.random.random(75)\n",
    "y1 = x1[::-1]  # Sorry, you're not allowed to do this!\n",
    "np.testing.assert_allclose(y1, reverse_array(x1), rtol = 1e-6)"
   ]
  },
  {
   "cell_type": "code",
   "execution_count": null,
   "metadata": {
    "nbgrader": {
     "grade": true,
     "grade_id": "q1f_test2",
     "locked": true,
     "points": 5,
     "schema_version": 1,
     "solution": false
    }
   },
   "outputs": [],
   "source": [
    "np.random.seed(68382)\n",
    "\n",
    "x2 = np.random.random(581)\n",
    "y2 = x2[::-1]  # Sorry, you're not allowed to do this!\n",
    "np.testing.assert_allclose(y2, reverse_array(x2), rtol = 1e-6)"
   ]
  }
 ],
 "metadata": {
  "anaconda-cloud": {},
  "celltoolbar": "Create Assignment",
  "kernelspec": {
   "display_name": "Python 3",
   "language": "python",
   "name": "python3"
  },
  "language_info": {
   "codemirror_mode": {
    "name": "ipython",
    "version": 3
   },
   "file_extension": ".py",
   "mimetype": "text/x-python",
   "name": "python",
   "nbconvert_exporter": "python",
   "pygments_lexer": "ipython3",
   "version": "3.6.5"
  }
 },
 "nbformat": 4,
 "nbformat_minor": 1
}
