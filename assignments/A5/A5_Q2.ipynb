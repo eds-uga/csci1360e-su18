{
 "cells": [
  {
   "cell_type": "markdown",
   "metadata": {
    "nbgrader": {
     "grade": false,
     "grade_id": "q2_prompt",
     "locked": true,
     "schema_version": 1,
     "solution": false
    }
   },
   "source": [
    "# Question 2\n",
    "\n",
    "In this question, we'll review the basics of file I/O (file input/output) and the various function calls and modes required."
   ]
  },
  {
   "cell_type": "markdown",
   "metadata": {
    "nbgrader": {
     "grade": false,
     "grade_id": "q2a_prompt",
     "locked": true,
     "schema_version": 1,
     "solution": false
    }
   },
   "source": [
    "### Part A\n",
    "\n",
    "Write a function which:\n",
    "\n",
    " - is named `read_file_contents`\n",
    " - takes a string pathname as an argument\n",
    " - returns a single string that contains all the contents of the file\n",
    " \n",
    "Don't import any additional packages.\n",
    "\n",
    "If I have a file `random_text.txt`, I'll give the full path to this file to the function: `contents = read_file_contents(\"random_text.txt\")`, and I should get back a single string `contents` that contains all the contents of the file.\n",
    "\n",
    "**NOTE:** Your function should be able to handle errors gracefully! If an error occurs when trying to read from the file, your function should return `None` (note the capitalization of the first letter)."
   ]
  },
  {
   "cell_type": "code",
   "execution_count": null,
   "metadata": {
    "collapsed": true,
    "nbgrader": {
     "grade": false,
     "grade_id": "q2a",
     "locked": false,
     "schema_version": 1,
     "solution": true
    }
   },
   "outputs": [],
   "source": []
  },
  {
   "cell_type": "code",
   "execution_count": null,
   "metadata": {
    "collapsed": true,
    "nbgrader": {
     "grade": true,
     "grade_id": "q2a_test1",
     "locked": true,
     "points": 5,
     "schema_version": 1,
     "solution": false
    }
   },
   "outputs": [],
   "source": [
    "truth = \"This is some text.\\nMore text, but on a different line!\\nInsert your favorite meme here.\\n\"\n",
    "pred = read_file_contents(\"q1data/file1.txt\")\n",
    "assert truth == pred"
   ]
  },
  {
   "cell_type": "code",
   "execution_count": null,
   "metadata": {
    "collapsed": true,
    "nbgrader": {
     "grade": true,
     "grade_id": "q2a_test2",
     "locked": true,
     "points": 5,
     "schema_version": 1,
     "solution": false
    }
   },
   "outputs": [],
   "source": [
    "retval = -1\n",
    "try:\n",
    "    retval = read_file_contents(\"nonexistent/path.txt\")\n",
    "except:\n",
    "    assert False\n",
    "else:\n",
    "    assert retval is None"
   ]
  },
  {
   "cell_type": "markdown",
   "metadata": {
    "nbgrader": {
     "grade": false,
     "grade_id": "q2b_prompt",
     "locked": true,
     "schema_version": 1,
     "solution": false
    }
   },
   "source": [
    "### Part B\n",
    "\n",
    "In this question, you'll read from one file, perform a simple computation, and write the results to a new file.\n",
    "\n",
    "Write a function which:\n",
    "\n",
    " - is named `count_lines`\n",
    " - that takes two arguments: the first is a path to an input file to read, the second is the path to an output file to write\n",
    " - returns `True` on success, `False` if something went wrong (i.e an error occurred)\n",
    " \n",
    "Your function will count the number of lines in the file at the first argument, and write this number to a file at the second argument.\n",
    "\n",
    "**NOTE:** Your function should be able to handle errors gracefully! If an error occurs when trying to read from the file or write to the output file, your function should return `False`."
   ]
  },
  {
   "cell_type": "code",
   "execution_count": null,
   "metadata": {
    "collapsed": true,
    "nbgrader": {
     "grade": false,
     "grade_id": "q2b",
     "locked": false,
     "schema_version": 1,
     "solution": true
    }
   },
   "outputs": [],
   "source": []
  },
  {
   "cell_type": "code",
   "execution_count": null,
   "metadata": {
    "collapsed": true,
    "nbgrader": {
     "grade": true,
     "grade_id": "q2b_test1",
     "locked": true,
     "points": 5,
     "schema_version": 1,
     "solution": false
    }
   },
   "outputs": [],
   "source": [
    "import os\n",
    "if os.path.exists(\"q1data/file1_out.txt\"):\n",
    "    os.remove(\"q1data/file1_out.txt\")\n",
    "\n",
    "assert count_lines(\"q1data/file1.txt\", \"q1data/file1_out.txt\")\n",
    "assert os.path.exists(\"q1data/file1_out.txt\")\n",
    "assert int(open(\"q1data/file1_out.txt\", \"r\").read()) == 3"
   ]
  },
  {
   "cell_type": "code",
   "execution_count": null,
   "metadata": {
    "collapsed": true,
    "nbgrader": {
     "grade": true,
     "grade_id": "q2b_test2",
     "locked": true,
     "points": 5,
     "schema_version": 1,
     "solution": false
    }
   },
   "outputs": [],
   "source": [
    "if os.path.exists(\"meaningless\"):\n",
    "    os.remove(\"meaningless\")\n",
    "\n",
    "r1 = None\n",
    "try:\n",
    "    r1 = count_lines(\"yet/another/nonexistent/path.txt\", \"meaningless\")\n",
    "except:\n",
    "    assert False\n",
    "else:\n",
    "    assert not r1"
   ]
  },
  {
   "cell_type": "code",
   "execution_count": null,
   "metadata": {
    "collapsed": true,
    "nbgrader": {
     "grade": true,
     "grade_id": "q2b_test3",
     "locked": true,
     "points": 5,
     "schema_version": 1,
     "solution": false
    }
   },
   "outputs": [],
   "source": [
    "r2 = None\n",
    "try:\n",
    "    r2 = count_lines(\"q1data/file1.txt\", \"/this/should/throw/an/error.txt\")\n",
    "except:\n",
    "    assert False\n",
    "else:\n",
    "    assert not r2"
   ]
  },
  {
   "cell_type": "markdown",
   "metadata": {
    "nbgrader": {
     "grade": false,
     "grade_id": "q2c_prompt",
     "locked": true,
     "schema_version": 1,
     "solution": false
    }
   },
   "source": [
    "### Part C\n",
    "\n",
    "In this question, you'll write a function which\n",
    "\n",
    " - is named `acount_lines` \n",
    " - takes the same two arguments as `count_lines` in Part B\n",
    " - returns the same values as `count_lines` in Part B\n",
    " \n",
    "This function performs the same operation as before, except in the case that the output file already exists: in this case, you'll **append** the line count to the file instead of overwriting it, thus preserving any existing previous line counts.\n",
    "\n",
    "Each new appended line count should be *on its own line in the output file*. You may need to manually insert newline characters, which are a backslash followed by the letter n: **`\\n`**\n",
    "\n",
    "Your function should return `True` on success, and `False` if an error occurred.\n",
    "\n",
    "**NOTE:** Your function should be able to handle errors gracefully! If an error occurs when trying to read from the file or write to the output file, your function should return `False`."
   ]
  },
  {
   "cell_type": "code",
   "execution_count": null,
   "metadata": {
    "collapsed": true,
    "nbgrader": {
     "grade": false,
     "grade_id": "q2c",
     "locked": false,
     "schema_version": 1,
     "solution": true
    }
   },
   "outputs": [],
   "source": []
  },
  {
   "cell_type": "code",
   "execution_count": null,
   "metadata": {
    "collapsed": true,
    "nbgrader": {
     "grade": true,
     "grade_id": "q2c_test1",
     "locked": true,
     "points": 5,
     "schema_version": 1,
     "solution": false
    }
   },
   "outputs": [],
   "source": [
    "if os.path.exists(\"q1data/out_again.txt\"):\n",
    "    os.remove(\"q1data/out_again.txt\")\n",
    "\n",
    "assert acount_lines(\"q1data/file1.txt\", \"q1data/out_again.txt\")\n",
    "assert os.path.exists(\"q1data/out_again.txt\")\n",
    "assert int(open(\"q1data/out_again.txt\", \"r\").read()) == 3"
   ]
  },
  {
   "cell_type": "code",
   "execution_count": null,
   "metadata": {
    "collapsed": true,
    "nbgrader": {
     "grade": true,
     "grade_id": "q2c_test2",
     "locked": true,
     "points": 5,
     "schema_version": 1,
     "solution": false
    }
   },
   "outputs": [],
   "source": [
    "assert acount_lines(\"q1data/file2.txt\", \"q1data/out_again.txt\")\n",
    "assert os.path.exists(\"q1data/out_again.txt\")\n",
    "assert int(\"\".join(open(\"q1data/out_again.txt\", \"r\").read().split(\"\\n\"))) == 34"
   ]
  },
  {
   "cell_type": "code",
   "execution_count": null,
   "metadata": {
    "collapsed": true,
    "nbgrader": {
     "grade": true,
     "grade_id": "q2c_test3",
     "locked": true,
     "points": 5,
     "schema_version": 1,
     "solution": false
    }
   },
   "outputs": [],
   "source": [
    "r1 = None\n",
    "try:\n",
    "    r1 = acount_lines(\"yet/another/nonexistent/path.txt\", \"meaningless\")\n",
    "except:\n",
    "    assert False\n",
    "else:\n",
    "    assert not r1\n",
    "\n",
    "r2 = None\n",
    "try:\n",
    "    r2 = acount_lines(\"q1data/file2.txt\", \"/this/should/throw/an/error.txt\")\n",
    "except:\n",
    "    assert False\n",
    "else:\n",
    "    assert not r2"
   ]
  }
 ],
 "metadata": {
  "anaconda-cloud": {},
  "celltoolbar": "Create Assignment",
  "kernelspec": {
   "display_name": "Python 3",
   "language": "python",
   "name": "python3"
  },
  "language_info": {
   "codemirror_mode": {
    "name": "ipython",
    "version": 3
   },
   "file_extension": ".py",
   "mimetype": "text/x-python",
   "name": "python",
   "nbconvert_exporter": "python",
   "pygments_lexer": "ipython3",
   "version": "3.6.5"
  }
 },
 "nbformat": 4,
 "nbformat_minor": 1
}
