{
 "cells": [
  {
   "cell_type": "markdown",
   "metadata": {
    "collapsed": true,
    "nbgrader": {
     "grade": false,
     "grade_id": "a5_title",
     "locked": true,
     "schema_version": 1,
     "solution": false
    }
   },
   "source": [
    "# Assignment 5\n",
    "CSCI 1360E: Foundations for Informatics and Analytics"
   ]
  },
  {
   "cell_type": "markdown",
   "metadata": {
    "nbgrader": {
     "grade": false,
     "grade_id": "a5_dates",
     "locked": true,
     "schema_version": 1,
     "solution": false
    }
   },
   "source": [
    "## Important Dates\n",
    "\n",
    " - Released: 2018-07-03 at 12am [EDT](http://www.timeanddate.com/worldclock/usa/athens)\n",
    " - Deadline: 2018-07-07 at 11:59:59pm [EDT](http://www.timeanddate.com/worldclock/usa/athens)"
   ]
  },
  {
   "cell_type": "markdown",
   "metadata": {
    "nbgrader": {
     "grade": false,
     "grade_id": "a5_grades",
     "locked": true,
     "schema_version": 1,
     "solution": false
    }
   },
   "source": [
    "## Grading Breakdown\n",
    "\n",
    " - Q1: 60pts\n",
    " - Q2: 40pts\n",
    " \n",
    "Total: 100pts\n",
    "\n",
    " - Bonus, Part A: 25pts\n",
    " - Bonus, Part B: 20pts"
   ]
  },
  {
   "cell_type": "markdown",
   "metadata": {
    "nbgrader": {
     "grade": false,
     "grade_id": "a5_overview",
     "locked": true,
     "schema_version": 1,
     "solution": false
    }
   },
   "source": [
    "## Overview\n",
    "\n",
    "This assignment will focus on filesystem input/output, as well as some special emphasis on functions and NumPy indexing and broadcasting.\n",
    "\n",
    "If you have any questions or difficulties with the assignment, don't hesitate to post them in `#questions`!"
   ]
  }
 ],
 "metadata": {
  "anaconda-cloud": {},
  "celltoolbar": "Create Assignment",
  "kernelspec": {
   "display_name": "Python 3",
   "language": "python",
   "name": "python3"
  },
  "language_info": {
   "codemirror_mode": {
    "name": "ipython",
    "version": 3
   },
   "file_extension": ".py",
   "mimetype": "text/x-python",
   "name": "python",
   "nbconvert_exporter": "python",
   "pygments_lexer": "ipython3",
   "version": "3.6.5"
  }
 },
 "nbformat": 4,
 "nbformat_minor": 1
}
